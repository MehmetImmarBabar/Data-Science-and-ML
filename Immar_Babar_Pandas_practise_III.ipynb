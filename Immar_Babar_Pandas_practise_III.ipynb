{
  "cells": [
    {
      "cell_type": "markdown",
      "metadata": {
        "id": "NIjiNewjikKW"
      },
      "source": [
        "# Lecture 4 –Fall 2023\n",
        "\n",
        "A demonstration of advanced `pandas` syntax to accompany Lecture 4."
      ]
    },
    {
      "cell_type": "code",
      "execution_count": null,
      "metadata": {
        "colab": {
          "base_uri": "https://localhost:8080/"
        },
        "id": "cgdnHZXjimq0",
        "outputId": "8a53e8e3-790d-45ed-df1e-a97381a64d35"
      },
      "outputs": [
        {
          "name": "stdout",
          "output_type": "stream",
          "text": [
            "Mounted at /content/drive\n"
          ]
        }
      ],
      "source": [
        "from google.colab import drive\n",
        "drive.mount('/content/drive')"
      ]
    },
    {
      "cell_type": "code",
      "execution_count": null,
      "metadata": {
        "id": "iMMkYGl7ikKa"
      },
      "outputs": [],
      "source": [
        "import numpy as np\n",
        "import pandas as pd\n",
        "import plotly.express as px"
      ]
    },
    {
      "cell_type": "markdown",
      "metadata": {
        "id": "iD2Qu34XikKi"
      },
      "source": [
        "## Dataset: California baby names\n",
        "\n",
        "In today's lecture, we'll work with the `babynames` dataset, which contains information about the names of infants born in California.\n",
        "\n",
        "The cell below pulls census data from a government website and then loads it into a usable form. The code shown here is outside of the scope of Data 100, but you're encouraged to dig into it if you are interested!"
      ]
    },
    {
      "cell_type": "code",
      "execution_count": 1,
      "metadata": {
        "id": "PXW2WryKikKi"
      },
      "outputs": [
        {
          "data": {
            "text/html": [
              "<div>\n",
              "<style scoped>\n",
              "    .dataframe tbody tr th:only-of-type {\n",
              "        vertical-align: middle;\n",
              "    }\n",
              "\n",
              "    .dataframe tbody tr th {\n",
              "        vertical-align: top;\n",
              "    }\n",
              "\n",
              "    .dataframe thead th {\n",
              "        text-align: right;\n",
              "    }\n",
              "</style>\n",
              "<table border=\"1\" class=\"dataframe\">\n",
              "  <thead>\n",
              "    <tr style=\"text-align: right;\">\n",
              "      <th></th>\n",
              "      <th>State</th>\n",
              "      <th>Sex</th>\n",
              "      <th>Year</th>\n",
              "      <th>Name</th>\n",
              "      <th>Count</th>\n",
              "    </tr>\n",
              "  </thead>\n",
              "  <tbody>\n",
              "    <tr>\n",
              "      <th>0</th>\n",
              "      <td>CA</td>\n",
              "      <td>F</td>\n",
              "      <td>1910</td>\n",
              "      <td>Mary</td>\n",
              "      <td>295</td>\n",
              "    </tr>\n",
              "    <tr>\n",
              "      <th>1</th>\n",
              "      <td>CA</td>\n",
              "      <td>F</td>\n",
              "      <td>1910</td>\n",
              "      <td>Helen</td>\n",
              "      <td>239</td>\n",
              "    </tr>\n",
              "    <tr>\n",
              "      <th>2</th>\n",
              "      <td>CA</td>\n",
              "      <td>F</td>\n",
              "      <td>1910</td>\n",
              "      <td>Dorothy</td>\n",
              "      <td>220</td>\n",
              "    </tr>\n",
              "    <tr>\n",
              "      <th>3</th>\n",
              "      <td>CA</td>\n",
              "      <td>F</td>\n",
              "      <td>1910</td>\n",
              "      <td>Margaret</td>\n",
              "      <td>163</td>\n",
              "    </tr>\n",
              "    <tr>\n",
              "      <th>4</th>\n",
              "      <td>CA</td>\n",
              "      <td>F</td>\n",
              "      <td>1910</td>\n",
              "      <td>Frances</td>\n",
              "      <td>134</td>\n",
              "    </tr>\n",
              "  </tbody>\n",
              "</table>\n",
              "</div>"
            ],
            "text/plain": [
              "  State Sex  Year      Name  Count\n",
              "0    CA   F  1910      Mary    295\n",
              "1    CA   F  1910     Helen    239\n",
              "2    CA   F  1910   Dorothy    220\n",
              "3    CA   F  1910  Margaret    163\n",
              "4    CA   F  1910   Frances    134"
            ]
          },
          "execution_count": 1,
          "metadata": {},
          "output_type": "execute_result"
        }
      ],
      "source": [
        "import urllib.request\n",
        "import os.path\n",
        "import zipfile\n",
        "import pandas as pd\n",
        "\n",
        "data_url = \"https://www.ssa.gov/oact/babynames/state/namesbystate.zip\"\n",
        "local_filename = \"babynamesbystate.zip\"\n",
        "if not os.path.exists(local_filename): # If the data exists don't download again\n",
        "    with urllib.request.urlopen(data_url) as resp, open(local_filename, 'wb') as f:\n",
        "        f.write(resp.read())\n",
        "\n",
        "zf = zipfile.ZipFile(local_filename, 'r')\n",
        "\n",
        "ca_name = 'STATE.CA.TXT'\n",
        "field_names = ['State', 'Sex', 'Year', 'Name', 'Count']\n",
        "with zf.open(ca_name) as fh:\n",
        "    babynames = pd.read_csv(fh, header=None, names=field_names)\n",
        "\n",
        "babynames.head()\n"
      ]
    },
    {
      "cell_type": "markdown",
      "metadata": {
        "id": "gHIddj3IikKl"
      },
      "source": [
        "### Exercises\n",
        "We want to obtain the first three baby names with `count > 250`.\n",
        "\n",
        "1.Code this using, loc and head()\n",
        "\n",
        "2.Code this using, loc and iloc()\n",
        "\n",
        "3.Code this using [] and head ()\n"
      ]
    },
    {
      "cell_type": "code",
      "execution_count": 8,
      "metadata": {
        "id": "vy62CYWpikKl"
      },
      "outputs": [
        {
          "data": {
            "text/html": [
              "<div>\n",
              "<style scoped>\n",
              "    .dataframe tbody tr th:only-of-type {\n",
              "        vertical-align: middle;\n",
              "    }\n",
              "\n",
              "    .dataframe tbody tr th {\n",
              "        vertical-align: top;\n",
              "    }\n",
              "\n",
              "    .dataframe thead th {\n",
              "        text-align: right;\n",
              "    }\n",
              "</style>\n",
              "<table border=\"1\" class=\"dataframe\">\n",
              "  <thead>\n",
              "    <tr style=\"text-align: right;\">\n",
              "      <th></th>\n",
              "      <th>State</th>\n",
              "      <th>Sex</th>\n",
              "      <th>Year</th>\n",
              "      <th>Name</th>\n",
              "      <th>Count</th>\n",
              "    </tr>\n",
              "  </thead>\n",
              "  <tbody>\n",
              "    <tr>\n",
              "      <th>0</th>\n",
              "      <td>CA</td>\n",
              "      <td>F</td>\n",
              "      <td>1910</td>\n",
              "      <td>Mary</td>\n",
              "      <td>295</td>\n",
              "    </tr>\n",
              "    <tr>\n",
              "      <th>233</th>\n",
              "      <td>CA</td>\n",
              "      <td>F</td>\n",
              "      <td>1911</td>\n",
              "      <td>Mary</td>\n",
              "      <td>390</td>\n",
              "    </tr>\n",
              "    <tr>\n",
              "      <th>484</th>\n",
              "      <td>CA</td>\n",
              "      <td>F</td>\n",
              "      <td>1912</td>\n",
              "      <td>Mary</td>\n",
              "      <td>534</td>\n",
              "    </tr>\n",
              "  </tbody>\n",
              "</table>\n",
              "</div>"
            ],
            "text/plain": [
              "    State Sex  Year  Name  Count\n",
              "0      CA   F  1910  Mary    295\n",
              "233    CA   F  1911  Mary    390\n",
              "484    CA   F  1912  Mary    534"
            ]
          },
          "execution_count": 8,
          "metadata": {},
          "output_type": "execute_result"
        }
      ],
      "source": [
        "# Answer Here\n",
        "top=babynames[babynames[\"Count\"]>250]\n",
        "top.head(3)\n"
      ]
    },
    {
      "cell_type": "code",
      "execution_count": 15,
      "metadata": {
        "id": "DrXbEdNxpaME"
      },
      "outputs": [
        {
          "data": {
            "text/html": [
              "<div>\n",
              "<style scoped>\n",
              "    .dataframe tbody tr th:only-of-type {\n",
              "        vertical-align: middle;\n",
              "    }\n",
              "\n",
              "    .dataframe tbody tr th {\n",
              "        vertical-align: top;\n",
              "    }\n",
              "\n",
              "    .dataframe thead th {\n",
              "        text-align: right;\n",
              "    }\n",
              "</style>\n",
              "<table border=\"1\" class=\"dataframe\">\n",
              "  <thead>\n",
              "    <tr style=\"text-align: right;\">\n",
              "      <th></th>\n",
              "      <th>State</th>\n",
              "      <th>Sex</th>\n",
              "      <th>Year</th>\n",
              "      <th>Name</th>\n",
              "      <th>Count</th>\n",
              "    </tr>\n",
              "  </thead>\n",
              "  <tbody>\n",
              "    <tr>\n",
              "      <th>0</th>\n",
              "      <td>CA</td>\n",
              "      <td>F</td>\n",
              "      <td>1910</td>\n",
              "      <td>Mary</td>\n",
              "      <td>295</td>\n",
              "    </tr>\n",
              "    <tr>\n",
              "      <th>233</th>\n",
              "      <td>CA</td>\n",
              "      <td>F</td>\n",
              "      <td>1911</td>\n",
              "      <td>Mary</td>\n",
              "      <td>390</td>\n",
              "    </tr>\n",
              "    <tr>\n",
              "      <th>484</th>\n",
              "      <td>CA</td>\n",
              "      <td>F</td>\n",
              "      <td>1912</td>\n",
              "      <td>Mary</td>\n",
              "      <td>534</td>\n",
              "    </tr>\n",
              "  </tbody>\n",
              "</table>\n",
              "</div>"
            ],
            "text/plain": [
              "    State Sex  Year  Name  Count\n",
              "0      CA   F  1910  Mary    295\n",
              "233    CA   F  1911  Mary    390\n",
              "484    CA   F  1912  Mary    534"
            ]
          },
          "execution_count": 15,
          "metadata": {},
          "output_type": "execute_result"
        }
      ],
      "source": [
        "# Answer Here\n",
        "top.iloc[0:3,:]"
      ]
    },
    {
      "cell_type": "code",
      "execution_count": 16,
      "metadata": {
        "id": "73W1d6o5cFye",
        "scrolled": true
      },
      "outputs": [
        {
          "data": {
            "text/html": [
              "<div>\n",
              "<style scoped>\n",
              "    .dataframe tbody tr th:only-of-type {\n",
              "        vertical-align: middle;\n",
              "    }\n",
              "\n",
              "    .dataframe tbody tr th {\n",
              "        vertical-align: top;\n",
              "    }\n",
              "\n",
              "    .dataframe thead th {\n",
              "        text-align: right;\n",
              "    }\n",
              "</style>\n",
              "<table border=\"1\" class=\"dataframe\">\n",
              "  <thead>\n",
              "    <tr style=\"text-align: right;\">\n",
              "      <th></th>\n",
              "      <th>State</th>\n",
              "      <th>Sex</th>\n",
              "      <th>Year</th>\n",
              "      <th>Name</th>\n",
              "      <th>Count</th>\n",
              "    </tr>\n",
              "  </thead>\n",
              "  <tbody>\n",
              "    <tr>\n",
              "      <th>0</th>\n",
              "      <td>CA</td>\n",
              "      <td>F</td>\n",
              "      <td>1910</td>\n",
              "      <td>Mary</td>\n",
              "      <td>295</td>\n",
              "    </tr>\n",
              "    <tr>\n",
              "      <th>233</th>\n",
              "      <td>CA</td>\n",
              "      <td>F</td>\n",
              "      <td>1911</td>\n",
              "      <td>Mary</td>\n",
              "      <td>390</td>\n",
              "    </tr>\n",
              "    <tr>\n",
              "      <th>484</th>\n",
              "      <td>CA</td>\n",
              "      <td>F</td>\n",
              "      <td>1912</td>\n",
              "      <td>Mary</td>\n",
              "      <td>534</td>\n",
              "    </tr>\n",
              "  </tbody>\n",
              "</table>\n",
              "</div>"
            ],
            "text/plain": [
              "    State Sex  Year  Name  Count\n",
              "0      CA   F  1910  Mary    295\n",
              "233    CA   F  1911  Mary    390\n",
              "484    CA   F  1912  Mary    534"
            ]
          },
          "execution_count": 16,
          "metadata": {},
          "output_type": "execute_result"
        }
      ],
      "source": [
        "# Answer Here\n",
        "top[0:3]"
      ]
    },
    {
      "cell_type": "markdown",
      "metadata": {
        "id": "pKOoifhQikKl"
      },
      "source": [
        "### `.isin` for Selection based on a list, array, or `Series`"
      ]
    },
    {
      "cell_type": "code",
      "execution_count": 17,
      "metadata": {
        "id": "gsZokeo6ikKl"
      },
      "outputs": [],
      "source": [
        "# Note: The parentheses surrounding the code make it possible to break the code into multiple lines for readability\n",
        "\n",
        "b= ( babynames[(babynames[\"Name\"] == \"Bella\") |\n",
        "              (babynames[\"Name\"] == \"Alex\") |\n",
        "              (babynames[\"Name\"] == \"Narges\") |\n",
        "              (babynames[\"Name\"] == \"Lisa\")])\n"
      ]
    },
    {
      "cell_type": "code",
      "execution_count": 4,
      "metadata": {
        "id": "MVp7TZUlikKm"
      },
      "outputs": [
        {
          "name": "stdout",
          "output_type": "stream",
          "text": [
            "['Bella', 'Alex', 'Narges', 'Lisa']\n"
          ]
        },
        {
          "data": {
            "text/html": [
              "<div>\n",
              "<style scoped>\n",
              "    .dataframe tbody tr th:only-of-type {\n",
              "        vertical-align: middle;\n",
              "    }\n",
              "\n",
              "    .dataframe tbody tr th {\n",
              "        vertical-align: top;\n",
              "    }\n",
              "\n",
              "    .dataframe thead th {\n",
              "        text-align: right;\n",
              "    }\n",
              "</style>\n",
              "<table border=\"1\" class=\"dataframe\">\n",
              "  <thead>\n",
              "    <tr style=\"text-align: right;\">\n",
              "      <th></th>\n",
              "      <th>State</th>\n",
              "      <th>Sex</th>\n",
              "      <th>Year</th>\n",
              "      <th>Name</th>\n",
              "      <th>Count</th>\n",
              "    </tr>\n",
              "  </thead>\n",
              "  <tbody>\n",
              "    <tr>\n",
              "      <th>6289</th>\n",
              "      <td>CA</td>\n",
              "      <td>F</td>\n",
              "      <td>1923</td>\n",
              "      <td>Bella</td>\n",
              "      <td>5</td>\n",
              "    </tr>\n",
              "    <tr>\n",
              "      <th>7512</th>\n",
              "      <td>CA</td>\n",
              "      <td>F</td>\n",
              "      <td>1925</td>\n",
              "      <td>Bella</td>\n",
              "      <td>8</td>\n",
              "    </tr>\n",
              "    <tr>\n",
              "      <th>12368</th>\n",
              "      <td>CA</td>\n",
              "      <td>F</td>\n",
              "      <td>1932</td>\n",
              "      <td>Lisa</td>\n",
              "      <td>5</td>\n",
              "    </tr>\n",
              "    <tr>\n",
              "      <th>14741</th>\n",
              "      <td>CA</td>\n",
              "      <td>F</td>\n",
              "      <td>1936</td>\n",
              "      <td>Lisa</td>\n",
              "      <td>8</td>\n",
              "    </tr>\n",
              "    <tr>\n",
              "      <th>17084</th>\n",
              "      <td>CA</td>\n",
              "      <td>F</td>\n",
              "      <td>1939</td>\n",
              "      <td>Lisa</td>\n",
              "      <td>5</td>\n",
              "    </tr>\n",
              "    <tr>\n",
              "      <th>...</th>\n",
              "      <td>...</td>\n",
              "      <td>...</td>\n",
              "      <td>...</td>\n",
              "      <td>...</td>\n",
              "      <td>...</td>\n",
              "    </tr>\n",
              "    <tr>\n",
              "      <th>393248</th>\n",
              "      <td>CA</td>\n",
              "      <td>M</td>\n",
              "      <td>2018</td>\n",
              "      <td>Alex</td>\n",
              "      <td>495</td>\n",
              "    </tr>\n",
              "    <tr>\n",
              "      <th>396111</th>\n",
              "      <td>CA</td>\n",
              "      <td>M</td>\n",
              "      <td>2019</td>\n",
              "      <td>Alex</td>\n",
              "      <td>438</td>\n",
              "    </tr>\n",
              "    <tr>\n",
              "      <th>398983</th>\n",
              "      <td>CA</td>\n",
              "      <td>M</td>\n",
              "      <td>2020</td>\n",
              "      <td>Alex</td>\n",
              "      <td>379</td>\n",
              "    </tr>\n",
              "    <tr>\n",
              "      <th>401788</th>\n",
              "      <td>CA</td>\n",
              "      <td>M</td>\n",
              "      <td>2021</td>\n",
              "      <td>Alex</td>\n",
              "      <td>333</td>\n",
              "    </tr>\n",
              "    <tr>\n",
              "      <th>404663</th>\n",
              "      <td>CA</td>\n",
              "      <td>M</td>\n",
              "      <td>2022</td>\n",
              "      <td>Alex</td>\n",
              "      <td>344</td>\n",
              "    </tr>\n",
              "  </tbody>\n",
              "</table>\n",
              "<p>317 rows × 5 columns</p>\n",
              "</div>"
            ],
            "text/plain": [
              "       State Sex  Year   Name  Count\n",
              "6289      CA   F  1923  Bella      5\n",
              "7512      CA   F  1925  Bella      8\n",
              "12368     CA   F  1932   Lisa      5\n",
              "14741     CA   F  1936   Lisa      8\n",
              "17084     CA   F  1939   Lisa      5\n",
              "...      ...  ..   ...    ...    ...\n",
              "393248    CA   M  2018   Alex    495\n",
              "396111    CA   M  2019   Alex    438\n",
              "398983    CA   M  2020   Alex    379\n",
              "401788    CA   M  2021   Alex    333\n",
              "404663    CA   M  2022   Alex    344\n",
              "\n",
              "[317 rows x 5 columns]"
            ]
          },
          "execution_count": 4,
          "metadata": {},
          "output_type": "execute_result"
        }
      ],
      "source": [
        "# A more concise method to achieve the above: .isin\n",
        "#Answer Here\n",
        "ab= [\"Bella\",\"Alex\",\"Narges\",\"Lisa\"]\n",
        "print(ab)\n",
        "b1= babynames[babynames[\"Name\"].isin(ab)]\n",
        "b1"
      ]
    },
    {
      "cell_type": "markdown",
      "metadata": {
        "id": "FAfz6N3qikKm"
      },
      "source": [
        "### `.str` Functions for Defining a Condition"
      ]
    },
    {
      "cell_type": "code",
      "execution_count": 5,
      "metadata": {
        "id": "xYCh8K0qikKm"
      },
      "outputs": [
        {
          "name": "stdout",
          "output_type": "stream",
          "text": [
            "       State Sex  Year        Name  Count\n",
            "16        CA   F  1910   Josephine     66\n",
            "44        CA   F  1910        Jean     35\n",
            "46        CA   F  1910      Jessie     32\n",
            "59        CA   F  1910       Julia     28\n",
            "66        CA   F  1910     Juanita     25\n",
            "...      ...  ..   ...         ...    ...\n",
            "407245    CA   M  2022     Jibreel      5\n",
            "407246    CA   M  2022   Joseangel      5\n",
            "407247    CA   M  2022  Josejulian      5\n",
            "407248    CA   M  2022       Juelz      5\n",
            "407249    CA   M  2022      Jujhar      5\n",
            "\n",
            "[34751 rows x 5 columns]\n"
          ]
        }
      ],
      "source": [
        "# What if we only want names that start with \"J\"?\n",
        "#Answer Here\n",
        "Name_J=babynames[babynames[\"Name\"].str.contains(\"J\")]\n",
        "print(Name_J)"
      ]
    },
    {
      "cell_type": "markdown",
      "metadata": {
        "id": "4HleKnmwikKm"
      },
      "source": [
        "## Adding, Removing, and Modifying Columns"
      ]
    },
    {
      "cell_type": "markdown",
      "metadata": {
        "id": "XqWTQM1hikKm"
      },
      "source": [
        "### Add a Column\n",
        "To add a column, use `[]` to reference the desired new column, then assign it to a `Series` or array of appropriate length."
      ]
    },
    {
      "cell_type": "code",
      "execution_count": 10,
      "metadata": {
        "id": "-MmB453QikKm"
      },
      "outputs": [
        {
          "data": {
            "text/html": [
              "<div>\n",
              "<style scoped>\n",
              "    .dataframe tbody tr th:only-of-type {\n",
              "        vertical-align: middle;\n",
              "    }\n",
              "\n",
              "    .dataframe tbody tr th {\n",
              "        vertical-align: top;\n",
              "    }\n",
              "\n",
              "    .dataframe thead th {\n",
              "        text-align: right;\n",
              "    }\n",
              "</style>\n",
              "<table border=\"1\" class=\"dataframe\">\n",
              "  <thead>\n",
              "    <tr style=\"text-align: right;\">\n",
              "      <th></th>\n",
              "      <th>State</th>\n",
              "      <th>Sex</th>\n",
              "      <th>Year</th>\n",
              "      <th>Name</th>\n",
              "      <th>Count</th>\n",
              "      <th>name_Lengths</th>\n",
              "    </tr>\n",
              "  </thead>\n",
              "  <tbody>\n",
              "    <tr>\n",
              "      <th>0</th>\n",
              "      <td>CA</td>\n",
              "      <td>F</td>\n",
              "      <td>1910</td>\n",
              "      <td>Mary</td>\n",
              "      <td>295</td>\n",
              "      <td>4</td>\n",
              "    </tr>\n",
              "    <tr>\n",
              "      <th>1</th>\n",
              "      <td>CA</td>\n",
              "      <td>F</td>\n",
              "      <td>1910</td>\n",
              "      <td>Helen</td>\n",
              "      <td>239</td>\n",
              "      <td>5</td>\n",
              "    </tr>\n",
              "    <tr>\n",
              "      <th>2</th>\n",
              "      <td>CA</td>\n",
              "      <td>F</td>\n",
              "      <td>1910</td>\n",
              "      <td>Dorothy</td>\n",
              "      <td>220</td>\n",
              "      <td>7</td>\n",
              "    </tr>\n",
              "    <tr>\n",
              "      <th>3</th>\n",
              "      <td>CA</td>\n",
              "      <td>F</td>\n",
              "      <td>1910</td>\n",
              "      <td>Margaret</td>\n",
              "      <td>163</td>\n",
              "      <td>8</td>\n",
              "    </tr>\n",
              "    <tr>\n",
              "      <th>4</th>\n",
              "      <td>CA</td>\n",
              "      <td>F</td>\n",
              "      <td>1910</td>\n",
              "      <td>Frances</td>\n",
              "      <td>134</td>\n",
              "      <td>7</td>\n",
              "    </tr>\n",
              "    <tr>\n",
              "      <th>...</th>\n",
              "      <td>...</td>\n",
              "      <td>...</td>\n",
              "      <td>...</td>\n",
              "      <td>...</td>\n",
              "      <td>...</td>\n",
              "      <td>...</td>\n",
              "    </tr>\n",
              "    <tr>\n",
              "      <th>407423</th>\n",
              "      <td>CA</td>\n",
              "      <td>M</td>\n",
              "      <td>2022</td>\n",
              "      <td>Zayvier</td>\n",
              "      <td>5</td>\n",
              "      <td>7</td>\n",
              "    </tr>\n",
              "    <tr>\n",
              "      <th>407424</th>\n",
              "      <td>CA</td>\n",
              "      <td>M</td>\n",
              "      <td>2022</td>\n",
              "      <td>Zia</td>\n",
              "      <td>5</td>\n",
              "      <td>3</td>\n",
              "    </tr>\n",
              "    <tr>\n",
              "      <th>407425</th>\n",
              "      <td>CA</td>\n",
              "      <td>M</td>\n",
              "      <td>2022</td>\n",
              "      <td>Zora</td>\n",
              "      <td>5</td>\n",
              "      <td>4</td>\n",
              "    </tr>\n",
              "    <tr>\n",
              "      <th>407426</th>\n",
              "      <td>CA</td>\n",
              "      <td>M</td>\n",
              "      <td>2022</td>\n",
              "      <td>Zuriel</td>\n",
              "      <td>5</td>\n",
              "      <td>6</td>\n",
              "    </tr>\n",
              "    <tr>\n",
              "      <th>407427</th>\n",
              "      <td>CA</td>\n",
              "      <td>M</td>\n",
              "      <td>2022</td>\n",
              "      <td>Zylo</td>\n",
              "      <td>5</td>\n",
              "      <td>4</td>\n",
              "    </tr>\n",
              "  </tbody>\n",
              "</table>\n",
              "<p>407428 rows × 6 columns</p>\n",
              "</div>"
            ],
            "text/plain": [
              "       State Sex  Year      Name  Count  name_Lengths\n",
              "0         CA   F  1910      Mary    295             4\n",
              "1         CA   F  1910     Helen    239             5\n",
              "2         CA   F  1910   Dorothy    220             7\n",
              "3         CA   F  1910  Margaret    163             8\n",
              "4         CA   F  1910   Frances    134             7\n",
              "...      ...  ..   ...       ...    ...           ...\n",
              "407423    CA   M  2022   Zayvier      5             7\n",
              "407424    CA   M  2022       Zia      5             3\n",
              "407425    CA   M  2022      Zora      5             4\n",
              "407426    CA   M  2022    Zuriel      5             6\n",
              "407427    CA   M  2022      Zylo      5             4\n",
              "\n",
              "[407428 rows x 6 columns]"
            ]
          },
          "execution_count": 10,
          "metadata": {},
          "output_type": "execute_result"
        }
      ],
      "source": [
        "# Create a Series of the length of each name\n",
        "length=babynames[\"Name\"].str.len()\n",
        "#lenght.DataFra\n",
        "# Add a column named \"name_lengths\" that includes the length of each name\n",
        "babynames['name_Lengths']=length\n",
        "babynames"
      ]
    },
    {
      "cell_type": "markdown",
      "metadata": {
        "id": "MrBTd9bZikKn"
      },
      "source": [
        "### Modify a Column\n",
        "To modify a column, use `[]` to access the desired column, then re-assign it to a new array or Series."
      ]
    },
    {
      "cell_type": "code",
      "execution_count": 14,
      "metadata": {
        "id": "s2nh2MkYikKn"
      },
      "outputs": [
        {
          "name": "stdout",
          "output_type": "stream",
          "text": [
            "       State Sex  Year      Name  Count  name_Lengths  New-1\n",
            "0         CA   F  1910      Mary    295             4      3\n",
            "1         CA   F  1910     Helen    239             5      4\n",
            "2         CA   F  1910   Dorothy    220             7      6\n",
            "3         CA   F  1910  Margaret    163             8      7\n",
            "4         CA   F  1910   Frances    134             7      6\n",
            "...      ...  ..   ...       ...    ...           ...    ...\n",
            "407423    CA   M  2022   Zayvier      5             7      6\n",
            "407424    CA   M  2022       Zia      5             3      2\n",
            "407425    CA   M  2022      Zora      5             4      3\n",
            "407426    CA   M  2022    Zuriel      5             6      5\n",
            "407427    CA   M  2022      Zylo      5             4      3\n",
            "\n",
            "[407428 rows x 7 columns]\n"
          ]
        }
      ],
      "source": [
        "# Modify the \"name_lengths\" column to be one less than its original value\n",
        "l=length-1\n",
        "babynames['New-1']=l\n",
        "print(babynames)"
      ]
    },
    {
      "cell_type": "markdown",
      "metadata": {
        "id": "ZNgIZDavikKn"
      },
      "source": [
        "### Rename a Column Name\n",
        "Rename a column using the `.rename()` method."
      ]
    },
    {
      "cell_type": "code",
      "execution_count": 20,
      "metadata": {
        "id": "SucypH9likKn"
      },
      "outputs": [
        {
          "data": {
            "text/html": [
              "<div>\n",
              "<style scoped>\n",
              "    .dataframe tbody tr th:only-of-type {\n",
              "        vertical-align: middle;\n",
              "    }\n",
              "\n",
              "    .dataframe tbody tr th {\n",
              "        vertical-align: top;\n",
              "    }\n",
              "\n",
              "    .dataframe thead th {\n",
              "        text-align: right;\n",
              "    }\n",
              "</style>\n",
              "<table border=\"1\" class=\"dataframe\">\n",
              "  <thead>\n",
              "    <tr style=\"text-align: right;\">\n",
              "      <th></th>\n",
              "      <th>State</th>\n",
              "      <th>Sex</th>\n",
              "      <th>Year</th>\n",
              "      <th>Name</th>\n",
              "      <th>Count</th>\n",
              "      <th>Length</th>\n",
              "      <th>New-1</th>\n",
              "    </tr>\n",
              "  </thead>\n",
              "  <tbody>\n",
              "    <tr>\n",
              "      <th>0</th>\n",
              "      <td>CA</td>\n",
              "      <td>F</td>\n",
              "      <td>1910</td>\n",
              "      <td>Mary</td>\n",
              "      <td>295</td>\n",
              "      <td>4</td>\n",
              "      <td>3</td>\n",
              "    </tr>\n",
              "    <tr>\n",
              "      <th>1</th>\n",
              "      <td>CA</td>\n",
              "      <td>F</td>\n",
              "      <td>1910</td>\n",
              "      <td>Helen</td>\n",
              "      <td>239</td>\n",
              "      <td>5</td>\n",
              "      <td>4</td>\n",
              "    </tr>\n",
              "    <tr>\n",
              "      <th>2</th>\n",
              "      <td>CA</td>\n",
              "      <td>F</td>\n",
              "      <td>1910</td>\n",
              "      <td>Dorothy</td>\n",
              "      <td>220</td>\n",
              "      <td>7</td>\n",
              "      <td>6</td>\n",
              "    </tr>\n",
              "    <tr>\n",
              "      <th>3</th>\n",
              "      <td>CA</td>\n",
              "      <td>F</td>\n",
              "      <td>1910</td>\n",
              "      <td>Margaret</td>\n",
              "      <td>163</td>\n",
              "      <td>8</td>\n",
              "      <td>7</td>\n",
              "    </tr>\n",
              "    <tr>\n",
              "      <th>4</th>\n",
              "      <td>CA</td>\n",
              "      <td>F</td>\n",
              "      <td>1910</td>\n",
              "      <td>Frances</td>\n",
              "      <td>134</td>\n",
              "      <td>7</td>\n",
              "      <td>6</td>\n",
              "    </tr>\n",
              "    <tr>\n",
              "      <th>...</th>\n",
              "      <td>...</td>\n",
              "      <td>...</td>\n",
              "      <td>...</td>\n",
              "      <td>...</td>\n",
              "      <td>...</td>\n",
              "      <td>...</td>\n",
              "      <td>...</td>\n",
              "    </tr>\n",
              "    <tr>\n",
              "      <th>407423</th>\n",
              "      <td>CA</td>\n",
              "      <td>M</td>\n",
              "      <td>2022</td>\n",
              "      <td>Zayvier</td>\n",
              "      <td>5</td>\n",
              "      <td>7</td>\n",
              "      <td>6</td>\n",
              "    </tr>\n",
              "    <tr>\n",
              "      <th>407424</th>\n",
              "      <td>CA</td>\n",
              "      <td>M</td>\n",
              "      <td>2022</td>\n",
              "      <td>Zia</td>\n",
              "      <td>5</td>\n",
              "      <td>3</td>\n",
              "      <td>2</td>\n",
              "    </tr>\n",
              "    <tr>\n",
              "      <th>407425</th>\n",
              "      <td>CA</td>\n",
              "      <td>M</td>\n",
              "      <td>2022</td>\n",
              "      <td>Zora</td>\n",
              "      <td>5</td>\n",
              "      <td>4</td>\n",
              "      <td>3</td>\n",
              "    </tr>\n",
              "    <tr>\n",
              "      <th>407426</th>\n",
              "      <td>CA</td>\n",
              "      <td>M</td>\n",
              "      <td>2022</td>\n",
              "      <td>Zuriel</td>\n",
              "      <td>5</td>\n",
              "      <td>6</td>\n",
              "      <td>5</td>\n",
              "    </tr>\n",
              "    <tr>\n",
              "      <th>407427</th>\n",
              "      <td>CA</td>\n",
              "      <td>M</td>\n",
              "      <td>2022</td>\n",
              "      <td>Zylo</td>\n",
              "      <td>5</td>\n",
              "      <td>4</td>\n",
              "      <td>3</td>\n",
              "    </tr>\n",
              "  </tbody>\n",
              "</table>\n",
              "<p>407428 rows × 7 columns</p>\n",
              "</div>"
            ],
            "text/plain": [
              "       State Sex  Year      Name  Count  Length  New-1\n",
              "0         CA   F  1910      Mary    295       4      3\n",
              "1         CA   F  1910     Helen    239       5      4\n",
              "2         CA   F  1910   Dorothy    220       7      6\n",
              "3         CA   F  1910  Margaret    163       8      7\n",
              "4         CA   F  1910   Frances    134       7      6\n",
              "...      ...  ..   ...       ...    ...     ...    ...\n",
              "407423    CA   M  2022   Zayvier      5       7      6\n",
              "407424    CA   M  2022       Zia      5       3      2\n",
              "407425    CA   M  2022      Zora      5       4      3\n",
              "407426    CA   M  2022    Zuriel      5       6      5\n",
              "407427    CA   M  2022      Zylo      5       4      3\n",
              "\n",
              "[407428 rows x 7 columns]"
            ]
          },
          "execution_count": 20,
          "metadata": {},
          "output_type": "execute_result"
        }
      ],
      "source": [
        "# Rename \"name_lengths\" to \"Length\"\n",
        "a=babynames.rename(columns={\"name_Lengths\":\"Length\"})\n",
        "a"
      ]
    },
    {
      "cell_type": "markdown",
      "metadata": {
        "id": "irQLkFH5ikKn"
      },
      "source": [
        "### Delete a Column\n",
        "Remove a column using `.drop()`."
      ]
    },
    {
      "cell_type": "code",
      "execution_count": 22,
      "metadata": {
        "id": "mR6hEqODikKn"
      },
      "outputs": [
        {
          "data": {
            "text/html": [
              "<div>\n",
              "<style scoped>\n",
              "    .dataframe tbody tr th:only-of-type {\n",
              "        vertical-align: middle;\n",
              "    }\n",
              "\n",
              "    .dataframe tbody tr th {\n",
              "        vertical-align: top;\n",
              "    }\n",
              "\n",
              "    .dataframe thead th {\n",
              "        text-align: right;\n",
              "    }\n",
              "</style>\n",
              "<table border=\"1\" class=\"dataframe\">\n",
              "  <thead>\n",
              "    <tr style=\"text-align: right;\">\n",
              "      <th></th>\n",
              "      <th>State</th>\n",
              "      <th>Sex</th>\n",
              "      <th>Year</th>\n",
              "      <th>Name</th>\n",
              "      <th>Count</th>\n",
              "      <th>New-1</th>\n",
              "    </tr>\n",
              "  </thead>\n",
              "  <tbody>\n",
              "    <tr>\n",
              "      <th>0</th>\n",
              "      <td>CA</td>\n",
              "      <td>F</td>\n",
              "      <td>1910</td>\n",
              "      <td>Mary</td>\n",
              "      <td>295</td>\n",
              "      <td>3</td>\n",
              "    </tr>\n",
              "    <tr>\n",
              "      <th>1</th>\n",
              "      <td>CA</td>\n",
              "      <td>F</td>\n",
              "      <td>1910</td>\n",
              "      <td>Helen</td>\n",
              "      <td>239</td>\n",
              "      <td>4</td>\n",
              "    </tr>\n",
              "    <tr>\n",
              "      <th>2</th>\n",
              "      <td>CA</td>\n",
              "      <td>F</td>\n",
              "      <td>1910</td>\n",
              "      <td>Dorothy</td>\n",
              "      <td>220</td>\n",
              "      <td>6</td>\n",
              "    </tr>\n",
              "    <tr>\n",
              "      <th>3</th>\n",
              "      <td>CA</td>\n",
              "      <td>F</td>\n",
              "      <td>1910</td>\n",
              "      <td>Margaret</td>\n",
              "      <td>163</td>\n",
              "      <td>7</td>\n",
              "    </tr>\n",
              "    <tr>\n",
              "      <th>4</th>\n",
              "      <td>CA</td>\n",
              "      <td>F</td>\n",
              "      <td>1910</td>\n",
              "      <td>Frances</td>\n",
              "      <td>134</td>\n",
              "      <td>6</td>\n",
              "    </tr>\n",
              "    <tr>\n",
              "      <th>...</th>\n",
              "      <td>...</td>\n",
              "      <td>...</td>\n",
              "      <td>...</td>\n",
              "      <td>...</td>\n",
              "      <td>...</td>\n",
              "      <td>...</td>\n",
              "    </tr>\n",
              "    <tr>\n",
              "      <th>407423</th>\n",
              "      <td>CA</td>\n",
              "      <td>M</td>\n",
              "      <td>2022</td>\n",
              "      <td>Zayvier</td>\n",
              "      <td>5</td>\n",
              "      <td>6</td>\n",
              "    </tr>\n",
              "    <tr>\n",
              "      <th>407424</th>\n",
              "      <td>CA</td>\n",
              "      <td>M</td>\n",
              "      <td>2022</td>\n",
              "      <td>Zia</td>\n",
              "      <td>5</td>\n",
              "      <td>2</td>\n",
              "    </tr>\n",
              "    <tr>\n",
              "      <th>407425</th>\n",
              "      <td>CA</td>\n",
              "      <td>M</td>\n",
              "      <td>2022</td>\n",
              "      <td>Zora</td>\n",
              "      <td>5</td>\n",
              "      <td>3</td>\n",
              "    </tr>\n",
              "    <tr>\n",
              "      <th>407426</th>\n",
              "      <td>CA</td>\n",
              "      <td>M</td>\n",
              "      <td>2022</td>\n",
              "      <td>Zuriel</td>\n",
              "      <td>5</td>\n",
              "      <td>5</td>\n",
              "    </tr>\n",
              "    <tr>\n",
              "      <th>407427</th>\n",
              "      <td>CA</td>\n",
              "      <td>M</td>\n",
              "      <td>2022</td>\n",
              "      <td>Zylo</td>\n",
              "      <td>5</td>\n",
              "      <td>3</td>\n",
              "    </tr>\n",
              "  </tbody>\n",
              "</table>\n",
              "<p>407428 rows × 6 columns</p>\n",
              "</div>"
            ],
            "text/plain": [
              "       State Sex  Year      Name  Count  New-1\n",
              "0         CA   F  1910      Mary    295      3\n",
              "1         CA   F  1910     Helen    239      4\n",
              "2         CA   F  1910   Dorothy    220      6\n",
              "3         CA   F  1910  Margaret    163      7\n",
              "4         CA   F  1910   Frances    134      6\n",
              "...      ...  ..   ...       ...    ...    ...\n",
              "407423    CA   M  2022   Zayvier      5      6\n",
              "407424    CA   M  2022       Zia      5      2\n",
              "407425    CA   M  2022      Zora      5      3\n",
              "407426    CA   M  2022    Zuriel      5      5\n",
              "407427    CA   M  2022      Zylo      5      3\n",
              "\n",
              "[407428 rows x 6 columns]"
            ]
          },
          "execution_count": 22,
          "metadata": {},
          "output_type": "execute_result"
        }
      ],
      "source": [
        "# Remove our new \"Length\" column\n",
        "babynames.drop(columns={'name_Lengths'})"
      ]
    },
    {
      "cell_type": "markdown",
      "metadata": {
        "id": "mrW_x6kdikKq"
      },
      "source": [
        "## Custom sorting"
      ]
    },
    {
      "cell_type": "code",
      "execution_count": 24,
      "metadata": {
        "id": "_jngqWCtrvTe"
      },
      "outputs": [
        {
          "data": {
            "text/plain": [
              "<bound method Series.sort_values of 0             Mary\n",
              "1            Helen\n",
              "2          Dorothy\n",
              "3         Margaret\n",
              "4          Frances\n",
              "            ...   \n",
              "407423     Zayvier\n",
              "407424         Zia\n",
              "407425        Zora\n",
              "407426      Zuriel\n",
              "407427        Zylo\n",
              "Name: Name, Length: 407428, dtype: object>"
            ]
          },
          "execution_count": 24,
          "metadata": {},
          "output_type": "execute_result"
        }
      ],
      "source": [
        "# Sort a Series Containing Names\n",
        "\n",
        "a=babynames[\"Name\"].sort_values\n",
        "a"
      ]
    },
    {
      "cell_type": "code",
      "execution_count": 28,
      "metadata": {
        "id": "XdXTg7pDikKq"
      },
      "outputs": [
        {
          "data": {
            "text/html": [
              "<div>\n",
              "<style scoped>\n",
              "    .dataframe tbody tr th:only-of-type {\n",
              "        vertical-align: middle;\n",
              "    }\n",
              "\n",
              "    .dataframe tbody tr th {\n",
              "        vertical-align: top;\n",
              "    }\n",
              "\n",
              "    .dataframe thead th {\n",
              "        text-align: right;\n",
              "    }\n",
              "</style>\n",
              "<table border=\"1\" class=\"dataframe\">\n",
              "  <thead>\n",
              "    <tr style=\"text-align: right;\">\n",
              "      <th></th>\n",
              "      <th>State</th>\n",
              "      <th>Sex</th>\n",
              "      <th>Year</th>\n",
              "      <th>Name</th>\n",
              "      <th>Count</th>\n",
              "      <th>name_Lengths</th>\n",
              "      <th>New-1</th>\n",
              "    </tr>\n",
              "  </thead>\n",
              "  <tbody>\n",
              "  </tbody>\n",
              "</table>\n",
              "</div>"
            ],
            "text/plain": [
              "Empty DataFrame\n",
              "Columns: [State, Sex, Year, Name, Count, name_Lengths, New-1]\n",
              "Index: []"
            ]
          },
          "execution_count": 28,
          "metadata": {},
          "output_type": "execute_result"
        }
      ],
      "source": [
        "# Sort a DataFrame – there are lots of Michaels in California\n",
        "babynames[babynames[\"Name\"] == \"Michaels\"].sort_values(by='State')\n"
      ]
    },
    {
      "cell_type": "markdown",
      "metadata": {
        "id": "_ZVFY3dHsfOb"
      },
      "source": [
        "### Approach 1: Create a temporary column"
      ]
    },
    {
      "cell_type": "code",
      "execution_count": 5,
      "metadata": {
        "id": "C3-jQTR7ikKr"
      },
      "outputs": [
        {
          "name": "stdout",
          "output_type": "stream",
          "text": [
            "length Series 0         4\n",
            "1         5\n",
            "2         7\n",
            "3         8\n",
            "4         7\n",
            "         ..\n",
            "407423    7\n",
            "407424    3\n",
            "407425    4\n",
            "407426    6\n",
            "407427    4\n",
            "Name: Name, Length: 407428, dtype: int64\n",
            "       State Sex  Year      Name  Count  \"name_lengths  name_lengths\n",
            "0         CA   F  1910      Mary    295              4             4\n",
            "1         CA   F  1910     Helen    239              5             5\n",
            "2         CA   F  1910   Dorothy    220              7             7\n",
            "3         CA   F  1910  Margaret    163              8             8\n",
            "4         CA   F  1910   Frances    134              7             7\n",
            "...      ...  ..   ...       ...    ...            ...           ...\n",
            "407423    CA   M  2022   Zayvier      5              7             7\n",
            "407424    CA   M  2022       Zia      5              3             3\n",
            "407425    CA   M  2022      Zora      5              4             4\n",
            "407426    CA   M  2022    Zuriel      5              6             6\n",
            "407427    CA   M  2022      Zylo      5              4             4\n",
            "\n",
            "[407428 rows x 7 columns]\n"
          ]
        },
        {
          "data": {
            "text/html": [
              "<div>\n",
              "<style scoped>\n",
              "    .dataframe tbody tr th:only-of-type {\n",
              "        vertical-align: middle;\n",
              "    }\n",
              "\n",
              "    .dataframe tbody tr th {\n",
              "        vertical-align: top;\n",
              "    }\n",
              "\n",
              "    .dataframe thead th {\n",
              "        text-align: right;\n",
              "    }\n",
              "</style>\n",
              "<table border=\"1\" class=\"dataframe\">\n",
              "  <thead>\n",
              "    <tr style=\"text-align: right;\">\n",
              "      <th></th>\n",
              "      <th>State</th>\n",
              "      <th>Sex</th>\n",
              "      <th>Year</th>\n",
              "      <th>Name</th>\n",
              "      <th>Count</th>\n",
              "      <th>\"name_lengths</th>\n",
              "      <th>name_lengths</th>\n",
              "    </tr>\n",
              "  </thead>\n",
              "  <tbody>\n",
              "    <tr>\n",
              "      <th>326570</th>\n",
              "      <td>CA</td>\n",
              "      <td>M</td>\n",
              "      <td>1993</td>\n",
              "      <td>An</td>\n",
              "      <td>8</td>\n",
              "      <td>2</td>\n",
              "      <td>2</td>\n",
              "    </tr>\n",
              "    <tr>\n",
              "      <th>292150</th>\n",
              "      <td>CA</td>\n",
              "      <td>M</td>\n",
              "      <td>1976</td>\n",
              "      <td>Al</td>\n",
              "      <td>13</td>\n",
              "      <td>2</td>\n",
              "      <td>2</td>\n",
              "    </tr>\n",
              "    <tr>\n",
              "      <th>252556</th>\n",
              "      <td>CA</td>\n",
              "      <td>M</td>\n",
              "      <td>1937</td>\n",
              "      <td>Al</td>\n",
              "      <td>21</td>\n",
              "      <td>2</td>\n",
              "      <td>2</td>\n",
              "    </tr>\n",
              "    <tr>\n",
              "      <th>401470</th>\n",
              "      <td>CA</td>\n",
              "      <td>M</td>\n",
              "      <td>2020</td>\n",
              "      <td>Jr</td>\n",
              "      <td>5</td>\n",
              "      <td>2</td>\n",
              "      <td>2</td>\n",
              "    </tr>\n",
              "    <tr>\n",
              "      <th>260022</th>\n",
              "      <td>CA</td>\n",
              "      <td>M</td>\n",
              "      <td>1948</td>\n",
              "      <td>Ed</td>\n",
              "      <td>43</td>\n",
              "      <td>2</td>\n",
              "      <td>2</td>\n",
              "    </tr>\n",
              "    <tr>\n",
              "      <th>...</th>\n",
              "      <td>...</td>\n",
              "      <td>...</td>\n",
              "      <td>...</td>\n",
              "      <td>...</td>\n",
              "      <td>...</td>\n",
              "      <td>...</td>\n",
              "      <td>...</td>\n",
              "    </tr>\n",
              "    <tr>\n",
              "      <th>339472</th>\n",
              "      <td>CA</td>\n",
              "      <td>M</td>\n",
              "      <td>1998</td>\n",
              "      <td>Franciscojavier</td>\n",
              "      <td>6</td>\n",
              "      <td>15</td>\n",
              "      <td>15</td>\n",
              "    </tr>\n",
              "    <tr>\n",
              "      <th>327358</th>\n",
              "      <td>CA</td>\n",
              "      <td>M</td>\n",
              "      <td>1993</td>\n",
              "      <td>Johnchristopher</td>\n",
              "      <td>5</td>\n",
              "      <td>15</td>\n",
              "      <td>15</td>\n",
              "    </tr>\n",
              "    <tr>\n",
              "      <th>337477</th>\n",
              "      <td>CA</td>\n",
              "      <td>M</td>\n",
              "      <td>1997</td>\n",
              "      <td>Ryanchristopher</td>\n",
              "      <td>5</td>\n",
              "      <td>15</td>\n",
              "      <td>15</td>\n",
              "    </tr>\n",
              "    <tr>\n",
              "      <th>312543</th>\n",
              "      <td>CA</td>\n",
              "      <td>M</td>\n",
              "      <td>1987</td>\n",
              "      <td>Franciscojavier</td>\n",
              "      <td>5</td>\n",
              "      <td>15</td>\n",
              "      <td>15</td>\n",
              "    </tr>\n",
              "    <tr>\n",
              "      <th>321792</th>\n",
              "      <td>CA</td>\n",
              "      <td>M</td>\n",
              "      <td>1991</td>\n",
              "      <td>Ryanchristopher</td>\n",
              "      <td>7</td>\n",
              "      <td>15</td>\n",
              "      <td>15</td>\n",
              "    </tr>\n",
              "  </tbody>\n",
              "</table>\n",
              "<p>407428 rows × 7 columns</p>\n",
              "</div>"
            ],
            "text/plain": [
              "       State Sex  Year             Name  Count  \"name_lengths  name_lengths\n",
              "326570    CA   M  1993               An      8              2             2\n",
              "292150    CA   M  1976               Al     13              2             2\n",
              "252556    CA   M  1937               Al     21              2             2\n",
              "401470    CA   M  2020               Jr      5              2             2\n",
              "260022    CA   M  1948               Ed     43              2             2\n",
              "...      ...  ..   ...              ...    ...            ...           ...\n",
              "339472    CA   M  1998  Franciscojavier      6             15            15\n",
              "327358    CA   M  1993  Johnchristopher      5             15            15\n",
              "337477    CA   M  1997  Ryanchristopher      5             15            15\n",
              "312543    CA   M  1987  Franciscojavier      5             15            15\n",
              "321792    CA   M  1991  Ryanchristopher      7             15            15\n",
              "\n",
              "[407428 rows x 7 columns]"
            ]
          },
          "execution_count": 5,
          "metadata": {},
          "output_type": "execute_result"
        }
      ],
      "source": [
        "# Create a Series of the length of each name\n",
        "len=babynames['Name'].str.len()\n",
        "print('length Series',len)\n",
        "# Add a column named \"name_lengths\" that includes the length of each name\n",
        "babynames['name_lengths']=len\n",
        "print(babynames)\n",
        "# Sort by the temporary column\n",
        "babynames.sort_values(by='name_lengths')"
      ]
    },
    {
      "cell_type": "code",
      "execution_count": 10,
      "metadata": {
        "id": "ahtA1iWrikKr",
        "tags": []
      },
      "outputs": [
        {
          "data": {
            "text/html": [
              "<div>\n",
              "<style scoped>\n",
              "    .dataframe tbody tr th:only-of-type {\n",
              "        vertical-align: middle;\n",
              "    }\n",
              "\n",
              "    .dataframe tbody tr th {\n",
              "        vertical-align: top;\n",
              "    }\n",
              "\n",
              "    .dataframe thead th {\n",
              "        text-align: right;\n",
              "    }\n",
              "</style>\n",
              "<table border=\"1\" class=\"dataframe\">\n",
              "  <thead>\n",
              "    <tr style=\"text-align: right;\">\n",
              "      <th></th>\n",
              "      <th>State</th>\n",
              "      <th>Sex</th>\n",
              "      <th>Year</th>\n",
              "      <th>Name</th>\n",
              "      <th>Count</th>\n",
              "      <th>\"name_lengths</th>\n",
              "    </tr>\n",
              "  </thead>\n",
              "  <tbody>\n",
              "    <tr>\n",
              "      <th>0</th>\n",
              "      <td>CA</td>\n",
              "      <td>F</td>\n",
              "      <td>1910</td>\n",
              "      <td>Mary</td>\n",
              "      <td>295</td>\n",
              "      <td>4</td>\n",
              "    </tr>\n",
              "    <tr>\n",
              "      <th>1</th>\n",
              "      <td>CA</td>\n",
              "      <td>F</td>\n",
              "      <td>1910</td>\n",
              "      <td>Helen</td>\n",
              "      <td>239</td>\n",
              "      <td>5</td>\n",
              "    </tr>\n",
              "    <tr>\n",
              "      <th>2</th>\n",
              "      <td>CA</td>\n",
              "      <td>F</td>\n",
              "      <td>1910</td>\n",
              "      <td>Dorothy</td>\n",
              "      <td>220</td>\n",
              "      <td>7</td>\n",
              "    </tr>\n",
              "    <tr>\n",
              "      <th>3</th>\n",
              "      <td>CA</td>\n",
              "      <td>F</td>\n",
              "      <td>1910</td>\n",
              "      <td>Margaret</td>\n",
              "      <td>163</td>\n",
              "      <td>8</td>\n",
              "    </tr>\n",
              "    <tr>\n",
              "      <th>4</th>\n",
              "      <td>CA</td>\n",
              "      <td>F</td>\n",
              "      <td>1910</td>\n",
              "      <td>Frances</td>\n",
              "      <td>134</td>\n",
              "      <td>7</td>\n",
              "    </tr>\n",
              "    <tr>\n",
              "      <th>...</th>\n",
              "      <td>...</td>\n",
              "      <td>...</td>\n",
              "      <td>...</td>\n",
              "      <td>...</td>\n",
              "      <td>...</td>\n",
              "      <td>...</td>\n",
              "    </tr>\n",
              "    <tr>\n",
              "      <th>407423</th>\n",
              "      <td>CA</td>\n",
              "      <td>M</td>\n",
              "      <td>2022</td>\n",
              "      <td>Zayvier</td>\n",
              "      <td>5</td>\n",
              "      <td>7</td>\n",
              "    </tr>\n",
              "    <tr>\n",
              "      <th>407424</th>\n",
              "      <td>CA</td>\n",
              "      <td>M</td>\n",
              "      <td>2022</td>\n",
              "      <td>Zia</td>\n",
              "      <td>5</td>\n",
              "      <td>3</td>\n",
              "    </tr>\n",
              "    <tr>\n",
              "      <th>407425</th>\n",
              "      <td>CA</td>\n",
              "      <td>M</td>\n",
              "      <td>2022</td>\n",
              "      <td>Zora</td>\n",
              "      <td>5</td>\n",
              "      <td>4</td>\n",
              "    </tr>\n",
              "    <tr>\n",
              "      <th>407426</th>\n",
              "      <td>CA</td>\n",
              "      <td>M</td>\n",
              "      <td>2022</td>\n",
              "      <td>Zuriel</td>\n",
              "      <td>5</td>\n",
              "      <td>6</td>\n",
              "    </tr>\n",
              "    <tr>\n",
              "      <th>407427</th>\n",
              "      <td>CA</td>\n",
              "      <td>M</td>\n",
              "      <td>2022</td>\n",
              "      <td>Zylo</td>\n",
              "      <td>5</td>\n",
              "      <td>4</td>\n",
              "    </tr>\n",
              "  </tbody>\n",
              "</table>\n",
              "<p>407428 rows × 6 columns</p>\n",
              "</div>"
            ],
            "text/plain": [
              "       State Sex  Year      Name  Count  \"name_lengths\n",
              "0         CA   F  1910      Mary    295              4\n",
              "1         CA   F  1910     Helen    239              5\n",
              "2         CA   F  1910   Dorothy    220              7\n",
              "3         CA   F  1910  Margaret    163              8\n",
              "4         CA   F  1910   Frances    134              7\n",
              "...      ...  ..   ...       ...    ...            ...\n",
              "407423    CA   M  2022   Zayvier      5              7\n",
              "407424    CA   M  2022       Zia      5              3\n",
              "407425    CA   M  2022      Zora      5              4\n",
              "407426    CA   M  2022    Zuriel      5              6\n",
              "407427    CA   M  2022      Zylo      5              4\n",
              "\n",
              "[407428 rows x 6 columns]"
            ]
          },
          "execution_count": 10,
          "metadata": {},
          "output_type": "execute_result"
        }
      ],
      "source": [
        "# Drop the 'name_length' column\n",
        "babynames.drop(['name_lengths'], axis=1, inplace=True)\n",
        "babynames\n"
      ]
    },
    {
      "cell_type": "markdown",
      "metadata": {
        "id": "yRv15FHqikKr"
      },
      "source": [
        "### Approach 2: Sorting using the `key` argument"
      ]
    },
    {
      "cell_type": "code",
      "execution_count": 33,
      "metadata": {
        "id": "AQYcQ_hRikKr"
      },
      "outputs": [
        {
          "data": {
            "text/plain": [
              "326570                 An\n",
              "292150                 Al\n",
              "252556                 Al\n",
              "401470                 Jr\n",
              "260022                 Ed\n",
              "               ...       \n",
              "339472    Franciscojavier\n",
              "327358    Johnchristopher\n",
              "337477    Ryanchristopher\n",
              "312543    Franciscojavier\n",
              "321792    Ryanchristopher\n",
              "Name: Name, Length: 407428, dtype: object"
            ]
          },
          "execution_count": 33,
          "metadata": {},
          "output_type": "execute_result"
        }
      ],
      "source": [
        "a = babynames[\"Name\"].sort_values(key=lambda x: x.str.len())\n",
        "a"
      ]
    },
    {
      "cell_type": "markdown",
      "metadata": {
        "id": "g0cmkQEOikKr"
      },
      "source": [
        "### Approach 3: Sorting Using the `map` Function\n",
        "\n",
        "We can also use the Python map function if we want to use an arbitrarily defined function. Suppose we want to sort by the number of occurrences of \"dr\" plus the number of occurences of \"ea\"."
      ]
    },
    {
      "cell_type": "code",
      "execution_count": 34,
      "metadata": {
        "id": "cK1AbRrCikKr"
      },
      "outputs": [
        {
          "name": "stdout",
          "output_type": "stream",
          "text": [
            "       State Sex  Year     Name  Count  name_Lengths  New-1  sa_me_count\n",
            "89011     CA   F  1982   Melisa     57             6      5            2\n",
            "97940     CA   F  1985  Mellisa     16             7      6            2\n",
            "335023    CA   M  1996   Salome      5             6      5            2\n",
            "85128     CA   F  1980  Merissa      7             7      6            2\n",
            "156644    CA   F  2002  Melissa   1046             7      6            2\n",
            "...      ...  ..   ...      ...    ...           ...    ...          ...\n",
            "140991    CA   F  1997    Lilah      7             5      4            0\n",
            "140990    CA   F  1997   Leslee      7             6      5            0\n",
            "140988    CA   F  1997      Lee      7             3      2            0\n",
            "140987    CA   F  1997  Latisha      7             7      6            0\n",
            "407427    CA   M  2022     Zylo      5             4      3            0\n",
            "\n",
            "[407428 rows x 8 columns]\n"
          ]
        }
      ],
      "source": [
        "# First, define a function to count the number of times \"sa\" or \"me\" appear in each name\n",
        "\n",
        "\n",
        "# Then, use `map` to apply `dr_ea_count` to each name in the \"Name\" column\n",
        "\n",
        "# Sort the DataFrame by the new \"dr_ea_count\" column so we can see our handiwork\n",
        "\n",
        "# Step 1: Define a lambda function to count \"sa\" or \"me\"\n",
        "count_sa_me = lambda name: name.lower().count('sa') + name.lower().count('me')\n",
        "\n",
        "# Step 2: Use `map` to apply the lambda function to each name in the \"Name\" column\n",
        "babynames['sa_me_count'] = babynames['Name'].map(count_sa_me)\n",
        "\n",
        "# Step 3: Sort the DataFrame by the new 'sa_me_count' column\n",
        "sorted_babynames = babynames.sort_values(by='sa_me_count', ascending=False)\n",
        "\n",
        "# Display the sorted DataFrame\n",
        "print(sorted_babynames)"
      ]
    },
    {
      "cell_type": "code",
      "execution_count": 36,
      "metadata": {
        "id": "asoXYCpNikKs"
      },
      "outputs": [
        {
          "data": {
            "text/html": [
              "<div>\n",
              "<style scoped>\n",
              "    .dataframe tbody tr th:only-of-type {\n",
              "        vertical-align: middle;\n",
              "    }\n",
              "\n",
              "    .dataframe tbody tr th {\n",
              "        vertical-align: top;\n",
              "    }\n",
              "\n",
              "    .dataframe thead th {\n",
              "        text-align: right;\n",
              "    }\n",
              "</style>\n",
              "<table border=\"1\" class=\"dataframe\">\n",
              "  <thead>\n",
              "    <tr style=\"text-align: right;\">\n",
              "      <th></th>\n",
              "      <th>State</th>\n",
              "      <th>Sex</th>\n",
              "      <th>Year</th>\n",
              "      <th>Name</th>\n",
              "      <th>Count</th>\n",
              "      <th>name_Lengths</th>\n",
              "      <th>New-1</th>\n",
              "    </tr>\n",
              "  </thead>\n",
              "  <tbody>\n",
              "    <tr>\n",
              "      <th>89011</th>\n",
              "      <td>CA</td>\n",
              "      <td>F</td>\n",
              "      <td>1982</td>\n",
              "      <td>Melisa</td>\n",
              "      <td>57</td>\n",
              "      <td>6</td>\n",
              "      <td>5</td>\n",
              "    </tr>\n",
              "    <tr>\n",
              "      <th>97940</th>\n",
              "      <td>CA</td>\n",
              "      <td>F</td>\n",
              "      <td>1985</td>\n",
              "      <td>Mellisa</td>\n",
              "      <td>16</td>\n",
              "      <td>7</td>\n",
              "      <td>6</td>\n",
              "    </tr>\n",
              "    <tr>\n",
              "      <th>335023</th>\n",
              "      <td>CA</td>\n",
              "      <td>M</td>\n",
              "      <td>1996</td>\n",
              "      <td>Salome</td>\n",
              "      <td>5</td>\n",
              "      <td>6</td>\n",
              "      <td>5</td>\n",
              "    </tr>\n",
              "    <tr>\n",
              "      <th>85128</th>\n",
              "      <td>CA</td>\n",
              "      <td>F</td>\n",
              "      <td>1980</td>\n",
              "      <td>Merissa</td>\n",
              "      <td>7</td>\n",
              "      <td>7</td>\n",
              "      <td>6</td>\n",
              "    </tr>\n",
              "    <tr>\n",
              "      <th>156644</th>\n",
              "      <td>CA</td>\n",
              "      <td>F</td>\n",
              "      <td>2002</td>\n",
              "      <td>Melissa</td>\n",
              "      <td>1046</td>\n",
              "      <td>7</td>\n",
              "      <td>6</td>\n",
              "    </tr>\n",
              "    <tr>\n",
              "      <th>...</th>\n",
              "      <td>...</td>\n",
              "      <td>...</td>\n",
              "      <td>...</td>\n",
              "      <td>...</td>\n",
              "      <td>...</td>\n",
              "      <td>...</td>\n",
              "      <td>...</td>\n",
              "    </tr>\n",
              "    <tr>\n",
              "      <th>140991</th>\n",
              "      <td>CA</td>\n",
              "      <td>F</td>\n",
              "      <td>1997</td>\n",
              "      <td>Lilah</td>\n",
              "      <td>7</td>\n",
              "      <td>5</td>\n",
              "      <td>4</td>\n",
              "    </tr>\n",
              "    <tr>\n",
              "      <th>140990</th>\n",
              "      <td>CA</td>\n",
              "      <td>F</td>\n",
              "      <td>1997</td>\n",
              "      <td>Leslee</td>\n",
              "      <td>7</td>\n",
              "      <td>6</td>\n",
              "      <td>5</td>\n",
              "    </tr>\n",
              "    <tr>\n",
              "      <th>140988</th>\n",
              "      <td>CA</td>\n",
              "      <td>F</td>\n",
              "      <td>1997</td>\n",
              "      <td>Lee</td>\n",
              "      <td>7</td>\n",
              "      <td>3</td>\n",
              "      <td>2</td>\n",
              "    </tr>\n",
              "    <tr>\n",
              "      <th>140987</th>\n",
              "      <td>CA</td>\n",
              "      <td>F</td>\n",
              "      <td>1997</td>\n",
              "      <td>Latisha</td>\n",
              "      <td>7</td>\n",
              "      <td>7</td>\n",
              "      <td>6</td>\n",
              "    </tr>\n",
              "    <tr>\n",
              "      <th>407427</th>\n",
              "      <td>CA</td>\n",
              "      <td>M</td>\n",
              "      <td>2022</td>\n",
              "      <td>Zylo</td>\n",
              "      <td>5</td>\n",
              "      <td>4</td>\n",
              "      <td>3</td>\n",
              "    </tr>\n",
              "  </tbody>\n",
              "</table>\n",
              "<p>407428 rows × 7 columns</p>\n",
              "</div>"
            ],
            "text/plain": [
              "       State Sex  Year     Name  Count  name_Lengths  New-1\n",
              "89011     CA   F  1982   Melisa     57             6      5\n",
              "97940     CA   F  1985  Mellisa     16             7      6\n",
              "335023    CA   M  1996   Salome      5             6      5\n",
              "85128     CA   F  1980  Merissa      7             7      6\n",
              "156644    CA   F  2002  Melissa   1046             7      6\n",
              "...      ...  ..   ...      ...    ...           ...    ...\n",
              "140991    CA   F  1997    Lilah      7             5      4\n",
              "140990    CA   F  1997   Leslee      7             6      5\n",
              "140988    CA   F  1997      Lee      7             3      2\n",
              "140987    CA   F  1997  Latisha      7             7      6\n",
              "407427    CA   M  2022     Zylo      5             4      3\n",
              "\n",
              "[407428 rows x 7 columns]"
            ]
          },
          "execution_count": 36,
          "metadata": {},
          "output_type": "execute_result"
        }
      ],
      "source": [
        "# Drop the `dr_ea_count` column\n",
        "sorted_babynames.drop(columns={'sa_me_count'})"
      ]
    },
    {
      "cell_type": "markdown",
      "metadata": {
        "id": "1b5vXusiikKs"
      },
      "source": [
        "## Grouping\n",
        "\n",
        "Group rows that share a common feature, then aggregate data across the group.\n",
        "\n",
        "In this example, we count the total number of babies born in each year (considering only a small subset of the data, for simplicity).\n",
        "\n",
        "<img src=\"images/groupby.png\" width=\"800\"/>"
      ]
    },
    {
      "cell_type": "code",
      "execution_count": 42,
      "metadata": {
        "id": "cfXzYMSB1EIM"
      },
      "outputs": [
        {
          "name": "stderr",
          "output_type": "stream",
          "text": [
            "C:\\Users\\pc\\AppData\\Local\\Temp\\ipykernel_11800\\2041469278.py:6: FutureWarning: The provided callable <built-in function sum> is currently using DataFrameGroupBy.sum. In a future version of pandas, the provided callable will be used directly. To keep current behavior pass the string \"sum\" instead.\n",
            "  at=babynames[[\"Year\"]].groupby(\"Year\").agg(sum)\n"
          ]
        },
        {
          "data": {
            "text/html": [
              "<div>\n",
              "<style scoped>\n",
              "    .dataframe tbody tr th:only-of-type {\n",
              "        vertical-align: middle;\n",
              "    }\n",
              "\n",
              "    .dataframe tbody tr th {\n",
              "        vertical-align: top;\n",
              "    }\n",
              "\n",
              "    .dataframe thead th {\n",
              "        text-align: right;\n",
              "    }\n",
              "</style>\n",
              "<table border=\"1\" class=\"dataframe\">\n",
              "  <thead>\n",
              "    <tr style=\"text-align: right;\">\n",
              "      <th></th>\n",
              "    </tr>\n",
              "    <tr>\n",
              "      <th>Year</th>\n",
              "    </tr>\n",
              "  </thead>\n",
              "  <tbody>\n",
              "    <tr>\n",
              "      <th>1910</th>\n",
              "    </tr>\n",
              "    <tr>\n",
              "      <th>1911</th>\n",
              "    </tr>\n",
              "    <tr>\n",
              "      <th>1912</th>\n",
              "    </tr>\n",
              "    <tr>\n",
              "      <th>1913</th>\n",
              "    </tr>\n",
              "    <tr>\n",
              "      <th>1914</th>\n",
              "    </tr>\n",
              "    <tr>\n",
              "      <th>...</th>\n",
              "    </tr>\n",
              "    <tr>\n",
              "      <th>2018</th>\n",
              "    </tr>\n",
              "    <tr>\n",
              "      <th>2019</th>\n",
              "    </tr>\n",
              "    <tr>\n",
              "      <th>2020</th>\n",
              "    </tr>\n",
              "    <tr>\n",
              "      <th>2021</th>\n",
              "    </tr>\n",
              "    <tr>\n",
              "      <th>2022</th>\n",
              "    </tr>\n",
              "  </tbody>\n",
              "</table>\n",
              "<p>113 rows × 0 columns</p>\n",
              "</div>"
            ],
            "text/plain": [
              "Empty DataFrame\n",
              "Columns: []\n",
              "Index: [1910, 1911, 1912, 1913, 1914, 1915, 1916, 1917, 1918, 1919, 1920, 1921, 1922, 1923, 1924, 1925, 1926, 1927, 1928, 1929, 1930, 1931, 1932, 1933, 1934, 1935, 1936, 1937, 1938, 1939, 1940, 1941, 1942, 1943, 1944, 1945, 1946, 1947, 1948, 1949, 1950, 1951, 1952, 1953, 1954, 1955, 1956, 1957, 1958, 1959, 1960, 1961, 1962, 1963, 1964, 1965, 1966, 1967, 1968, 1969, 1970, 1971, 1972, 1973, 1974, 1975, 1976, 1977, 1978, 1979, 1980, 1981, 1982, 1983, 1984, 1985, 1986, 1987, 1988, 1989, 1990, 1991, 1992, 1993, 1994, 1995, 1996, 1997, 1998, 1999, 2000, 2001, 2002, 2003, 2004, 2005, 2006, 2007, 2008, 2009, ...]\n",
              "\n",
              "[113 rows x 0 columns]"
            ]
          },
          "execution_count": 42,
          "metadata": {},
          "output_type": "execute_result"
        }
      ],
      "source": [
        "# DataFrame with baby gril names only\n",
        "dtf=babynames[babynames[\"Sex\"]==\"F\"]\n",
        "dtf\n",
        "# Answer Here\n",
        "#Groupby similar features like year and apply aggregate\n",
        "at=babynames[[\"Year\"]].groupby(\"Year\").agg(sum)\n",
        "at\n",
        "# Answer Here\n",
        "# Sort by Count\n",
        "sorted_dtf = dtf.sort_values(by=\"Count\", ascending=False)\n",
        "print(sorted_dtf)\n",
        "# Answer Here\n"
      ]
    },
    {
      "cell_type": "code",
      "execution_count": 43,
      "metadata": {
        "id": "9EGgvBXG4ii4"
      },
      "outputs": [
        {
          "data": {
            "text/html": [
              "<div>\n",
              "<style scoped>\n",
              "    .dataframe tbody tr th:only-of-type {\n",
              "        vertical-align: middle;\n",
              "    }\n",
              "\n",
              "    .dataframe tbody tr th {\n",
              "        vertical-align: top;\n",
              "    }\n",
              "\n",
              "    .dataframe thead th {\n",
              "        text-align: right;\n",
              "    }\n",
              "</style>\n",
              "<table border=\"1\" class=\"dataframe\">\n",
              "  <thead>\n",
              "    <tr style=\"text-align: right;\">\n",
              "      <th></th>\n",
              "    </tr>\n",
              "    <tr>\n",
              "      <th>Year</th>\n",
              "    </tr>\n",
              "  </thead>\n",
              "  <tbody>\n",
              "    <tr>\n",
              "      <th>1910</th>\n",
              "    </tr>\n",
              "    <tr>\n",
              "      <th>1911</th>\n",
              "    </tr>\n",
              "    <tr>\n",
              "      <th>1912</th>\n",
              "    </tr>\n",
              "    <tr>\n",
              "      <th>1913</th>\n",
              "    </tr>\n",
              "    <tr>\n",
              "      <th>1914</th>\n",
              "    </tr>\n",
              "    <tr>\n",
              "      <th>1915</th>\n",
              "    </tr>\n",
              "    <tr>\n",
              "      <th>1916</th>\n",
              "    </tr>\n",
              "    <tr>\n",
              "      <th>1917</th>\n",
              "    </tr>\n",
              "    <tr>\n",
              "      <th>1918</th>\n",
              "    </tr>\n",
              "    <tr>\n",
              "      <th>1919</th>\n",
              "    </tr>\n",
              "  </tbody>\n",
              "</table>\n",
              "</div>"
            ],
            "text/plain": [
              "Empty DataFrame\n",
              "Columns: []\n",
              "Index: [1910, 1911, 1912, 1913, 1914, 1915, 1916, 1917, 1918, 1919]"
            ]
          },
          "execution_count": 43,
          "metadata": {},
          "output_type": "execute_result"
        }
      ],
      "source": [
        "# print first 10 entries\n",
        "at.head(10)"
      ]
    },
    {
      "cell_type": "code",
      "execution_count": 45,
      "metadata": {
        "id": "MeZ7klFJikKs"
      },
      "outputs": [
        {
          "name": "stdout",
          "output_type": "stream",
          "text": [
            "Year\n",
            "1990    552647\n",
            "1991    549317\n",
            "1992    541054\n",
            "1993    524983\n",
            "1989    512615\n",
            "         ...  \n",
            "1914     26926\n",
            "1913     22094\n",
            "1912     17946\n",
            "1911      9983\n",
            "1910      9163\n",
            "Name: Count, Length: 113, dtype: int64\n"
          ]
        },
        {
          "name": "stderr",
          "output_type": "stream",
          "text": [
            "C:\\Users\\pc\\AppData\\Local\\Temp\\ipykernel_11800\\4030933299.py:4: FutureWarning: The provided callable <built-in function sum> is currently using SeriesGroupBy.sum. In a future version of pandas, the provided callable will be used directly. To keep current behavior pass the string \"sum\" instead.\n",
            "  total_baby_count = babynames.groupby(\"Year\")[\"Count\"].agg(sum).sort_values(ascending=False)\n"
          ]
        }
      ],
      "source": [
        "#the total baby count in each year\n",
        "\n",
        "# Answer Here\n",
        "total_baby_count = babynames.groupby(\"Year\")[\"Count\"].agg(sum).sort_values(ascending=False)\n",
        "print(total_baby_count)"
      ]
    },
    {
      "cell_type": "markdown",
      "metadata": {
        "id": "dgGxE-GJikKs"
      },
      "source": [
        "There are many different aggregation functions we can use, all of which are useful in different applications."
      ]
    },
    {
      "cell_type": "code",
      "execution_count": 46,
      "metadata": {
        "id": "Bf_9Eu1XikKs"
      },
      "outputs": [
        {
          "name": "stdout",
          "output_type": "stream",
          "text": [
            "Name\n",
            "Aadan      2008\n",
            "Aadarsh    2019\n",
            "Aaden      2007\n",
            "Aadhav     2014\n",
            "Aadhini    2022\n",
            "           ... \n",
            "Zymir      2020\n",
            "Zyon       1999\n",
            "Zyra       2012\n",
            "Zyrah      2011\n",
            "Zyrus      2021\n",
            "Name: Year, Length: 20437, dtype: int64\n"
          ]
        }
      ],
      "source": [
        "# What is the earliest year in which each name appeared?\n",
        "# Answer Here\n",
        "earliest_year = babynames.groupby(\"Name\")[\"Year\"].agg('min')\n",
        "print(earliest_year)"
      ]
    },
    {
      "cell_type": "code",
      "execution_count": 47,
      "metadata": {
        "id": "ZYRMSMWQikKs"
      },
      "outputs": [
        {
          "name": "stdout",
          "output_type": "stream",
          "text": [
            "Name\n",
            "Aadan        7\n",
            "Aadarsh      6\n",
            "Aaden      158\n",
            "Aadhav       8\n",
            "Aadhini      6\n",
            "          ... \n",
            "Zymir        5\n",
            "Zyon        17\n",
            "Zyra        16\n",
            "Zyrah        6\n",
            "Zyrus        5\n",
            "Name: Count, Length: 20437, dtype: int64\n"
          ]
        }
      ],
      "source": [
        "# What is the largest single-year count of each name?\n",
        "# Answer Here\n",
        "largest_count = babynames.groupby(\"Name\")[\"Count\"].agg('max')\n",
        "print(largest_count)"
      ]
    },
    {
      "cell_type": "code",
      "execution_count": 49,
      "metadata": {
        "id": "mxMhwEIGtqJ8"
      },
      "outputs": [
        {
          "name": "stdout",
          "output_type": "stream",
          "text": [
            "     Year  Name\n",
            "0    1910  Mary\n",
            "1    1911  Mary\n",
            "2    1912  Mary\n",
            "3    1913  John\n",
            "4    1914  Mary\n",
            "..    ...   ...\n",
            "108  2018  Emma\n",
            "109  2019  Noah\n",
            "110  2020  Noah\n",
            "111  2021  Noah\n",
            "112  2022  Liam\n",
            "\n",
            "[113 rows x 2 columns]\n"
          ]
        }
      ],
      "source": [
        "#Can you find the most popular baby name in the state of California (CA) for each year? use idxmax function.\n",
        "#Provide a list of years along with the corresponding most popular names.\"\n",
        "result = babynames.groupby(\"Year\")['Count'].idxmax()\n",
        "#Answer Here\n",
        "\n",
        "# Filter the DataFrame for the state of California first\n",
        "ca_babynames = babynames[babynames[\"State\"] == \"CA\"]\n",
        "\n",
        "# Then group by 'Year', apply 'idxmax' to find the index of the largest count, and use 'loc' to retrieve the name\n",
        "most_popular_names = ca_babynames.loc[ca_babynames.groupby(\"Year\")[\"Count\"].idxmax()]\n",
        "\n",
        "# Now, create a DataFrame with 'Year' and the corresponding most popular 'Name'\n",
        "result = most_popular_names[['Year', 'Name']].reset_index(drop=True)\n",
        "print(result)"
      ]
    },
    {
      "cell_type": "markdown",
      "metadata": {
        "id": "xnszvDOfikKt"
      },
      "source": [
        "## Case Study: Name \"Popularity\""
      ]
    },
    {
      "cell_type": "markdown",
      "metadata": {
        "id": "tbOi1sfmikKt"
      },
      "source": [
        "In this exercise, let's find the name with sex \"F\" that has dropped most in popularity since its peak usage. We'll start by filtering `babynames` to only include names corresponding to sex \"F\"."
      ]
    },
    {
      "cell_type": "code",
      "execution_count": 14,
      "metadata": {},
      "outputs": [
        {
          "name": "stdout",
          "output_type": "stream",
          "text": [
            "Name\n",
            "Aadhini     0.000000\n",
            "Aadhira    50.000000\n",
            "Aadhya     34.000000\n",
            "Aadya      41.379310\n",
            "Aahana     73.076923\n",
            "             ...    \n",
            "Zyanya     53.333333\n",
            "Zyla        0.000000\n",
            "Zylah       0.000000\n",
            "Zyra        0.000000\n",
            "Zyrah      16.666667\n",
            "Name: Count, Length: 13782, dtype: float64\n",
            "The female baby name that has dropped the most in popularity since its peak usage is: Debra\n"
          ]
        }
      ],
      "source": [
        "import pandas as pd\n",
        "\n",
        "f_babynames = babynames[babynames[\"Sex\"] == \"F\"]\n",
        "\n",
        "peak_counts = f_babynames.groupby(\"Name\")[\"Count\"].max()\n",
        "\n",
        "\n",
        "percentage_drop = (peak_counts - f_babynames.groupby(\"Name\")[\"Count\"].last()) / peak_counts * 100\n",
        "\n",
        "print(percentage_drop)\n",
        "most_dropped_name = percentage_drop.idxmax()\n",
        "\n",
        "print(\"The female baby name that has dropped the most in popularity since its peak usage is:\", most_dropped_name)\n",
        "#print(percentage_drop)"
      ]
    },
    {
      "cell_type": "code",
      "execution_count": 75,
      "metadata": {},
      "outputs": [
        {
          "name": "stdout",
          "output_type": "stream",
          "text": [
            "The name with the largest drop in popularity is Jessica with a drop of 6854.\n"
          ]
        },
        {
          "name": "stderr",
          "output_type": "stream",
          "text": [
            "C:\\Users\\pc\\AppData\\Local\\Temp\\ipykernel_5788\\705821271.py:7: DeprecationWarning: DataFrameGroupBy.apply operated on the grouping columns. This behavior is deprecated, and in a future version of pandas the grouping columns will be excluded from the operation. Either pass `include_groups=False` to exclude the groupings or explicitly select the grouping columns after groupby to silence this warning.\n",
            "  recent_usage = babynames[babynames[\"Sex\"] == \"F\"].groupby('Name').apply(lambda x: x[x['Year'] == x['Year'].max()]['Count'].iloc[0])\n"
          ]
        },
        {
          "data": {
            "text/plain": [
              "\"\\nplt.figure(figsize=(10, 5))\\nplt.plot(largest_drop_name, largest_drop_value, color='skyblue')\\nplt.xlabel('Name')\\nplt.ylabel('Drop in Count')\\nplt.title('Name with Largest Drop in Popularity')\\nplt.show()\\n\""
            ]
          },
          "execution_count": 75,
          "metadata": {},
          "output_type": "execute_result"
        }
      ],
      "source": [
        "import matplotlib.pyplot as plt\n",
        "\n",
        "# Find the peak usage for each name\n",
        "peak_usage = babynames[babynames[\"Sex\"] == \"F\"].groupby('Name')['Count'].max()\n",
        "\n",
        "# Find the most recent usage for each name\n",
        "recent_usage = babynames[babynames[\"Sex\"] == \"F\"].groupby('Name').apply(lambda x: x[x['Year'] == x['Year'].max()]['Count'].iloc[0])\n",
        "\n",
        "# Calculate the drop in popularity\n",
        "drop_in_popularity = peak_usage - recent_usage\n",
        "\n",
        "# Find the name with the largest drop\n",
        "largest_drop_name = drop_in_popularity.idxmax()\n",
        "largest_drop_value = drop_in_popularity.max()\n",
        "\n",
        "# Print the results\n",
        "print(f\"The name with the largest drop in popularity is {largest_drop_name} with a drop of {largest_drop_value}.\")\n",
        "\n",
        "# Plotting the result\n",
        "\n",
        "plt.figure(figsize=(10, 5))\n",
        "plt.plot(largest_drop_name, largest_drop_value, color='skyblue')\n",
        "plt.xlabel('Name')\n",
        "plt.ylabel('Drop in Count')\n",
        "plt.title('Name with Largest Drop in Popularity')\n",
        "plt.show()\n"
      ]
    },
    {
      "cell_type": "code",
      "execution_count": 76,
      "metadata": {},
      "outputs": [
        {
          "name": "stderr",
          "output_type": "stream",
          "text": [
            "C:\\Users\\pc\\AppData\\Local\\Temp\\ipykernel_5788\\3857336695.py:5: DeprecationWarning: DataFrameGroupBy.apply operated on the grouping columns. This behavior is deprecated, and in a future version of pandas the grouping columns will be excluded from the operation. Either pass `include_groups=False` to exclude the groupings or explicitly select the grouping columns after groupby to silence this warning.\n",
            "  recent_usage = babynames[babynames[\"Sex\"] == \"F\"].groupby('Name').apply(lambda x: x[x['Year'] == x['Year'].max()]['Count'].iloc[0])\n"
          ]
        },
        {
          "data": {
            "image/png": "[encoded data removed]",
            "text/plain": [
              "<Figure size 1000x500 with 1 Axes>"
            ]
          },
          "metadata": {},
          "output_type": "display_data"
        }
      ],
      "source": [
        "import matplotlib.pyplot as plt\n",
        "\n",
        "# Assuming 'babynames' is a DataFrame with columns 'Name', 'Sex', 'Year', and 'Count'\n",
        "peak_usage = babynames[babynames[\"Sex\"] == \"F\"].groupby('Name')['Count'].max()\n",
        "recent_usage = babynames[babynames[\"Sex\"] == \"F\"].groupby('Name').apply(lambda x: x[x['Year'] == x['Year'].max()]['Count'].iloc[0])\n",
        "drop_in_popularity = peak_usage - recent_usage\n",
        "\n",
        "largest_drop_name = drop_in_popularity.idxmax()\n",
        "largest_drop_value = drop_in_popularity.max()\n",
        "\n",
        "# Create a line plot\n",
        "plt.figure(figsize=(10, 5))\n",
        "plt.plot(drop_in_popularity.index, drop_in_popularity.values, marker='o', color='purple')\n",
        "plt.xlabel('Name')\n",
        "plt.ylabel('Drop in Count')\n",
        "plt.title('Name with Largest Drop in Popularity')\n",
        "plt.xticks(rotation=45)\n",
        "plt.grid(axis='y')\n",
        "plt.tight_layout()\n",
        "plt.show()"
      ]
    },
    {
      "cell_type": "code",
      "execution_count": 67,
      "metadata": {
        "id": "BIMyQ0W9ikKt"
      },
      "outputs": [
        {
          "ename": "IndexError",
          "evalue": "invalid index to scalar variable.",
          "output_type": "error",
          "traceback": [
            "\u001b[1;31m---------------------------------------------------------------------------\u001b[0m",
            "\u001b[1;31mIndexError\u001b[0m                                Traceback (most recent call last)",
            "Cell \u001b[1;32mIn[67], line 6\u001b[0m\n\u001b[0;32m      4\u001b[0m case2\u001b[38;5;241m=\u001b[39mbabynames[(babynames[\u001b[38;5;124m\"\u001b[39m\u001b[38;5;124mSex\u001b[39m\u001b[38;5;124m\"\u001b[39m]\u001b[38;5;241m==\u001b[39m\u001b[38;5;124m\"\u001b[39m\u001b[38;5;124mF\u001b[39m\u001b[38;5;124m\"\u001b[39m) \u001b[38;5;241m&\u001b[39m (babynames[\u001b[38;5;124m\"\u001b[39m\u001b[38;5;124mYear\u001b[39m\u001b[38;5;124m\"\u001b[39m]\u001b[38;5;241m>\u001b[39m\u001b[38;5;241m2000\u001b[39m)]\n\u001b[0;32m      5\u001b[0m c2\u001b[38;5;241m=\u001b[39mcase2[\u001b[38;5;124m'\u001b[39m\u001b[38;5;124mCount\u001b[39m\u001b[38;5;124m'\u001b[39m]\u001b[38;5;241m.\u001b[39mmin()\n\u001b[1;32m----> 6\u001b[0m \u001b[43mc1\u001b[49m\u001b[43m[\u001b[49m\u001b[38;5;124;43m\"\u001b[39;49m\u001b[38;5;124;43mName\u001b[39;49m\u001b[38;5;124;43m\"\u001b[39;49m\u001b[43m]\u001b[49m\n\u001b[0;32m      7\u001b[0m c3\u001b[38;5;241m=\u001b[39mc1\u001b[38;5;241m-\u001b[39mc2\n\u001b[0;32m      8\u001b[0m \u001b[38;5;28mprint\u001b[39m(c3)\n",
            "\u001b[1;31mIndexError\u001b[0m: invalid index to scalar variable."
          ]
        }
      ],
      "source": [
        "#Answer Here\n",
        "case1= babynames[(babynames[\"Sex\"]==\"F\") & (babynames[\"Year\"]<2000)]\n",
        "c1 = case1['Count'].max()\n",
        "case2=babynames[(babynames[\"Sex\"]==\"F\") & (babynames[\"Year\"]>2000)]\n",
        "c2=case2['Count'].min()\n",
        "c3=c1-c2\n",
        "print(c3)\n",
        "#c22=c2.sort_values(by='Count', ascending=False)\n",
        "print(c1)\n",
        "print(c2)\n",
        "c4=c3.max()\n",
        "print(babynames[babynames[\"Name\"] == c4])\n"
      ]
    },
    {
      "cell_type": "code",
      "execution_count": 2,
      "metadata": {},
      "outputs": [
        {
          "ename": "NameError",
          "evalue": "name 'babynames' is not defined",
          "output_type": "error",
          "traceback": [
            "\u001b[1;31m---------------------------------------------------------------------------\u001b[0m",
            "\u001b[1;31mNameError\u001b[0m                                 Traceback (most recent call last)",
            "Cell \u001b[1;32mIn[2], line 1\u001b[0m\n\u001b[1;32m----> 1\u001b[0m case1 \u001b[38;5;241m=\u001b[39m \u001b[43mbabynames\u001b[49m[(babynames[\u001b[38;5;124m\"\u001b[39m\u001b[38;5;124mSex\u001b[39m\u001b[38;5;124m\"\u001b[39m] \u001b[38;5;241m==\u001b[39m \u001b[38;5;124m\"\u001b[39m\u001b[38;5;124mF\u001b[39m\u001b[38;5;124m\"\u001b[39m) \u001b[38;5;241m&\u001b[39m (babynames[\u001b[38;5;124m\"\u001b[39m\u001b[38;5;124mYear\u001b[39m\u001b[38;5;124m\"\u001b[39m] \u001b[38;5;241m<\u001b[39m \u001b[38;5;241m2000\u001b[39m)]\n\u001b[0;32m      2\u001b[0m c1 \u001b[38;5;241m=\u001b[39m case1[\u001b[38;5;124m'\u001b[39m\u001b[38;5;124mCount\u001b[39m\u001b[38;5;124m'\u001b[39m]\u001b[38;5;241m.\u001b[39mmax()\n\u001b[0;32m      3\u001b[0m case2 \u001b[38;5;241m=\u001b[39m babynames[(babynames[\u001b[38;5;124m\"\u001b[39m\u001b[38;5;124mSex\u001b[39m\u001b[38;5;124m\"\u001b[39m] \u001b[38;5;241m==\u001b[39m \u001b[38;5;124m\"\u001b[39m\u001b[38;5;124mF\u001b[39m\u001b[38;5;124m\"\u001b[39m) \u001b[38;5;241m&\u001b[39m (babynames[\u001b[38;5;124m\"\u001b[39m\u001b[38;5;124mYear\u001b[39m\u001b[38;5;124m\"\u001b[39m] \u001b[38;5;241m>\u001b[39m \u001b[38;5;241m2000\u001b[39m)]\n",
            "\u001b[1;31mNameError\u001b[0m: name 'babynames' is not defined"
          ]
        }
      ],
      "source": [
        "case1 = babynames[(babynames[\"Sex\"] == \"F\") & (babynames[\"Year\"] < 2000)]\n",
        "c1 = case1['Count'].max()\n",
        "case2 = babynames[(babynames[\"Sex\"] == \"F\") & (babynames[\"Year\"] > 2000)]\n",
        "c2 = case2['Count'].min()\n",
        "c3 = c1 - c2\n",
        "print(c3)\n",
        "# If you want to sort case2 by 'Count' and print the first row\n",
        "c22 = case2.sort_values(by='Count', ascending=False).iloc[0]\n",
        "print(c1)\n",
        "print(c2)\n",
        "# If you want to find the name with the maximum 'Count' in case1\n",
        "max_name = case1[case1['Count'] == c1]['Name'].iloc[0]\n",
        "print(max_name)\n"
      ]
    },
    {
      "cell_type": "code",
      "execution_count": 7,
      "metadata": {},
      "outputs": [
        {
          "ename": "NameError",
          "evalue": "name 'most_freq_name_before_2000' is not defined",
          "output_type": "error",
          "traceback": [
            "\u001b[1;31m---------------------------------------------------------------------------\u001b[0m",
            "\u001b[1;31mNameError\u001b[0m                                 Traceback (most recent call last)",
            "Cell \u001b[1;32mIn[7], line 3\u001b[0m\n\u001b[0;32m      1\u001b[0m \u001b[38;5;28;01mimport\u001b[39;00m \u001b[38;5;21;01mmatplotlib\u001b[39;00m\u001b[38;5;21;01m.\u001b[39;00m\u001b[38;5;21;01mpyplot\u001b[39;00m \u001b[38;5;28;01mas\u001b[39;00m \u001b[38;5;21;01mplt\u001b[39;00m\n\u001b[0;32m      2\u001b[0m \u001b[38;5;66;03m# Plotting\u001b[39;00m\n\u001b[1;32m----> 3\u001b[0m names \u001b[38;5;241m=\u001b[39m [\u001b[43mmost_freq_name_before_2000\u001b[49m, most_freq_name_after_2000]\n\u001b[0;32m      4\u001b[0m counts \u001b[38;5;241m=\u001b[39m [c1, c2]\n\u001b[0;32m      6\u001b[0m plt\u001b[38;5;241m.\u001b[39mbar(names, counts)\n",
            "\u001b[1;31mNameError\u001b[0m: name 'most_freq_name_before_2000' is not defined"
          ]
        }
      ],
      "source": [
        "import matplotlib.pyplot as plt\n",
        "# Plotting\n",
        "names = [most_freq_name_before_2000, most_freq_name_after_2000]\n",
        "counts = [c1, c2]\n",
        "\n",
        "plt.bar(names, counts)\n",
        "plt.xlabel('Names')\n",
        "plt.ylabel('Counts')\n",
        "plt.title('Most Frequent Names Before and After 2000')\n",
        "plt.show()\n"
      ]
    },
    {
      "cell_type": "markdown",
      "metadata": {
        "id": "g9qc5bgGikKt"
      },
      "source": [
        "To build our intuition on how to answer our research question, let's visualize the prevalence of the name \"Jennifer\" over time."
      ]
    },
    {
      "cell_type": "code",
      "execution_count": null,
      "metadata": {
        "id": "FLZPoz0sikKt"
      },
      "outputs": [],
      "source": [
        "# We'll talk about how to generate plots in a later lecture\n",
        "fig = px.line(f_babynames[f_babynames[\"Name\"] == \"Jennifer\"],\n",
        "              x = \"Year\", y = \"Count\")\n",
        "fig.update_layout(font_size = 18,\n",
        "                  autosize=False,\n",
        "                 width=1000,\n",
        "                  height=400)"
      ]
    },
    {
      "cell_type": "markdown",
      "metadata": {
        "id": "SrSXOygjikKt"
      },
      "source": [
        "We'll need a mathematical definition for the change in popularity of a name.\n",
        "\n",
        "Define the metric \"ratio to peak\" (RTP). We'll calculate this as the count of the name in 2022 (the most recent year for which we have data) divided by the largest count of this name in *any* year.\n",
        "\n",
        "A demo calculation for Jennifer:"
      ]
    },
    {
      "cell_type": "code",
      "execution_count": 4,
      "metadata": {
        "id": "IVsnEdtiikKu"
      },
      "outputs": [
        {
          "name": "stdout",
          "output_type": "stream",
          "text": [
            "The Ratio to Peak (RTP) for the name 'Jennifer' is: 0.018796372629843364\n"
          ]
        }
      ],
      "source": [
        "# Find the highest Jennifer 'count'\n",
        "# Import necessary libraries\n",
        "import pandas as pd\n",
        "\n",
        "# Load the dataset\n",
        "# Replace 'path_to_dataset' with the actual path to the dataset file\n",
        "#df = pd.read_csv('path_to_dataset.csv')\n",
        "\n",
        "# Find the peak count for 'Jennifer'\n",
        "peak_count = babynames[babynames['Name'] == 'Jennifer']['Count'].max()\n",
        "\n",
        "# Get the count for 'Jennifer' in 2022\n",
        "recent_count = babynames[(babynames['Name'] == 'Jennifer') & (babynames['Year'] == 2022)]['Count'].iloc[0]\n",
        "\n",
        "# Calculate Ratio to Peak (RTP)\n",
        "rtp_jennifer = recent_count / peak_count\n",
        "\n",
        "print(f\"The Ratio to Peak (RTP) for the name 'Jennifer' is: {rtp_jennifer}\")\n"
      ]
    },
    {
      "cell_type": "code",
      "execution_count": 8,
      "metadata": {
        "id": "b9tFhrtYikKu",
        "tags": []
      },
      "outputs": [
        {
          "name": "stdout",
          "output_type": "stream",
          "text": [
            "The Ratio to Peak (RTP) for the name 'Jennifer' is: 0.0188\n"
          ]
        }
      ],
      "source": [
        "# Remember that we sorted f_babynames by year.\n",
        "# This means that grabbing the final entry gives us the most recent count of Jennifers: 114\n",
        "# In 2022, the most recent year for which we have data, 114 Jennifers were born\n",
        "# Assuming 'f_babynames' is a DataFrame with 'Name', 'Year', and 'Count' columns\n",
        "# and it's sorted by 'Year'\n",
        "\n",
        "# Find the highest 'Jennifer' count\n",
        "peak_count = f_babynames[f_babynames['Name'] == 'Jennifer']['Count'].max()\n",
        "\n",
        "# The most recent count for 'Jennifer' in 2022 is 114\n",
        "recent_count = 114\n",
        "\n",
        "# Calculate Ratio to Peak (RTP)\n",
        "rtp_jennifer = recent_count / peak_count\n",
        "\n",
        "print(f\"The Ratio to Peak (RTP) for the name 'Jennifer' is: {rtp_jennifer:.4f}\")\n"
      ]
    },
    {
      "cell_type": "code",
      "execution_count": 9,
      "metadata": {
        "id": "EPykMViiikKu",
        "tags": []
      },
      "outputs": [
        {
          "name": "stdout",
          "output_type": "stream",
          "text": [
            "The Ratio to Peak (RTP) for the name 'Jennifer' is: 0.0188\n"
          ]
        }
      ],
      "source": [
        "# Compute the RTP\n",
        "print(f\"The Ratio to Peak (RTP) for the name 'Jennifer' is: {rtp_jennifer:.4f}\")"
      ]
    },
    {
      "cell_type": "markdown",
      "metadata": {
        "id": "GzWdNXmiikKu"
      },
      "source": [
        "We can also write a function that produces the `ratio_to_peak`for a given `Series`. This will allow us to use `.groupby` to speed up our computation for all names in the dataset."
      ]
    },
    {
      "cell_type": "code",
      "execution_count": 10,
      "metadata": {
        "id": "kAuuKE8gikKu"
      },
      "outputs": [
        {
          "name": "stdout",
          "output_type": "stream",
          "text": [
            "The Ratio to Peak (RTP) for the name 'Jennifer' is: 0.0188\n"
          ]
        }
      ],
      "source": [
        "# define the function for RTP\n",
        "\"\"\"\n",
        "Compute the RTP for a Series containing the counts per year for a single name\n",
        "\"\"\"\n",
        "def compute_rtp(series, recent_year):\n",
        "    \"\"\"\n",
        "    Compute the RTP for a Series containing the counts per year for a single name.\n",
        "\n",
        "    Parameters:\n",
        "    series (pandas.Series): A Series where the index is the year and the value is the count.\n",
        "    recent_year (int): The most recent year for which we have data.\n",
        "\n",
        "    Returns:\n",
        "    float: The RTP value for the given name.\n",
        "    \"\"\"\n",
        "    # Find the peak count in the series\n",
        "    peak_count = series.max()\n",
        "    \n",
        "    # Get the count for the most recent year\n",
        "    recent_count = series[recent_year]\n",
        "    \n",
        "    # Calculate the Ratio to Peak (RTP)\n",
        "    rtp = recent_count / peak_count\n",
        "    \n",
        "    return rtp\n",
        "\n",
        "# Example usage:\n",
        "# Assuming 'f_babynames' is a DataFrame with 'Name', 'Year', and 'Count' columns\n",
        "# and it's sorted by 'Year'. We create a Series for the name 'Jennifer'.\n",
        "\n",
        "# Create a Series for 'Jennifer'\n",
        "jennifer_series = f_babynames[f_babynames['Name'] == 'Jennifer'].set_index('Year')['Count']\n",
        "\n",
        "# Compute RTP for 'Jennifer' for the year 2022\n",
        "rtp_jennifer = compute_rtp(jennifer_series, 2022)\n",
        "\n",
        "print(f\"The Ratio to Peak (RTP) for the name 'Jennifer' is: {rtp_jennifer:.4f}\")\n"
      ]
    },
    {
      "cell_type": "code",
      "execution_count": 11,
      "metadata": {
        "id": "-EV_VpRAikKu"
      },
      "outputs": [
        {
          "name": "stdout",
          "output_type": "stream",
          "text": [
            "The Ratio to Peak (RTP) for the name 'Jennifer' is: 0.0188\n"
          ]
        }
      ],
      "source": [
        "# Construct a Series containing our Jennifer count data\n",
        "\n",
        "# Then, find the RTP using the function define above\n",
        "# Assuming 'f_babynames' is your DataFrame with 'Name', 'Year', and 'Count' columns\n",
        "\n",
        "# Construct a Series for 'Jennifer'\n",
        "jennifer_series = f_babynames[f_babynames['Name'] == 'Jennifer'].set_index('Year')['Count']\n",
        "\n",
        "# Define the compute_rtp function (as previously defined)\n",
        "def compute_rtp(series, recent_year):\n",
        "    peak_count = series.max()\n",
        "    recent_count = series[recent_year]\n",
        "    rtp = recent_count / peak_count\n",
        "    return rtp\n",
        "\n",
        "# Calculate the RTP for 'Jennifer' for the year 2022\n",
        "rtp_jennifer = compute_rtp(jennifer_series, 2022)\n",
        "\n",
        "# Output the result\n",
        "print(f\"The Ratio to Peak (RTP) for the name 'Jennifer' is: {rtp_jennifer:.4f}\")\n"
      ]
    },
    {
      "cell_type": "markdown",
      "metadata": {
        "id": "DCLu7luhikKv"
      },
      "source": [
        "Now, let's use `.groupby` to compute the RTPs for *all* names in the dataset.\n",
        "\n",
        "You may see a warning message when running the cell below. As discussed in lecture, `pandas` can't apply an aggregation function to non-numeric data (it doens't make sense to divide \"CA\" by a number). By default, `.groupby` will drop any columns that cannot be aggregated."
      ]
    },
    {
      "cell_type": "code",
      "execution_count": 19,
      "metadata": {
        "id": "Ce_dpVKjbhFv"
      },
      "outputs": [],
      "source": [
        "def calculate_rtp(group):\n",
        "    peak_count = group['Count'].max()\n",
        "    # Check if there is any count for the year 2022\n",
        "    if (group['Year'] == 2022).any():\n",
        "        recent_count = group[group['Year'] == 2022]['Count'].iloc[0]\n",
        "    else:\n",
        "        # If no data for 2022, set recent_count to 0\n",
        "        recent_count = 0\n",
        "    rtp = recent_count / peak_count if peak_count > 0 else 0\n",
        "    return rtp\n"
      ]
    },
    {
      "cell_type": "code",
      "execution_count": 16,
      "metadata": {
        "id": "AUa5jCLFikKv",
        "tags": []
      },
      "outputs": [
        {
          "name": "stdout",
          "output_type": "stream",
          "text": [
            "Name\n",
            "Aadhini    1.000000\n",
            "Aadhira    0.500000\n",
            "Aadhya     0.660000\n",
            "Aadya      0.586207\n",
            "Aahana     0.269231\n",
            "             ...   \n",
            "Zyanya     0.466667\n",
            "Zyla       1.000000\n",
            "Zylah      1.000000\n",
            "Zyra       1.000000\n",
            "Zyrah      0.000000\n",
            "Length: 13782, dtype: float64\n"
          ]
        },
        {
          "name": "stderr",
          "output_type": "stream",
          "text": [
            "C:\\Users\\pc\\AppData\\Local\\Temp\\ipykernel_7724\\1606637383.py:14: DeprecationWarning: DataFrameGroupBy.apply operated on the grouping columns. This behavior is deprecated, and in a future version of pandas the grouping columns will be excluded from the operation. Either pass `include_groups=False` to exclude the groupings or explicitly select the grouping columns after groupby to silence this warning.\n",
            "  rtp_all_names = f_babynames.groupby('Name').apply(calculate_rtp)\n"
          ]
        }
      ],
      "source": [
        "# Find the RTP fro all names at once using groupby as describe in lec slides\n",
        "# Assuming 'f_babynames' is your DataFrame with 'Name', 'Year', and 'Count' columns\n",
        "\n",
        "# Define a function to calculate RTP within each group\n",
        "def calculate_rtp(group):\n",
        "    peak_count = group['Count'].max()\n",
        "    # Get the count for the most recent year (2022)\n",
        "    # Assuming the DataFrame is sorted by year, so the last entry is the most recent\n",
        "    recent_count = group.iloc[-1]['Count'] if group.iloc[-1]['Year'] == 2022 else 0\n",
        "    rtp = recent_count / peak_count if peak_count > 0 else 0\n",
        "    return rtp\n",
        "\n",
        "# Group by 'Name' and apply the calculate_rtp function to each group\n",
        "rtp_all_names = f_babynames.groupby('Name').apply(calculate_rtp)\n",
        "\n",
        "# The result is a Series with the RTP for each name\n",
        "print(rtp_all_names)\n",
        "\n"
      ]
    },
    {
      "cell_type": "markdown",
      "metadata": {
        "id": "eghHkFWEikKv"
      },
      "source": [
        "To avoid the warning message above, we explicitly extract only the columns relevant to our analysis before using `.agg`."
      ]
    },
    {
      "cell_type": "code",
      "execution_count": 17,
      "metadata": {
        "id": "2M1wSROKikKv"
      },
      "outputs": [
        {
          "name": "stdout",
          "output_type": "stream",
          "text": [
            "Name\n",
            "Aadhini    0.0\n",
            "Aadhira    0.0\n",
            "Aadhya     0.0\n",
            "Aadya      0.0\n",
            "Aahana     0.0\n",
            "          ... \n",
            "Zyanya     0.0\n",
            "Zyla       0.0\n",
            "Zylah      0.0\n",
            "Zyra       0.0\n",
            "Zyrah      0.0\n",
            "Name: Count, Length: 13782, dtype: float64\n"
          ]
        }
      ],
      "source": [
        "# Recompute the RTPs, but only performing the calculation on the \"Count\" column\n",
        "# Assuming 'f_babynames' is your DataFrame with 'Name', 'Year', and 'Count' columns\n",
        "\n",
        "# Define a function to calculate RTP using only the 'Count' column\n",
        "def calculate_rtp(counts):\n",
        "    peak_count = counts.max()\n",
        "    # Assuming the DataFrame is sorted by year, so the last entry is the most recent\n",
        "    recent_count = counts.iloc[-1] if counts.index[-1] == 2022 else 0\n",
        "    rtp = recent_count / peak_count if peak_count > 0 else 0\n",
        "    return rtp\n",
        "\n",
        "# Group by 'Name' and apply the calculate_rtp function to the 'Count' column of each group\n",
        "rtp_all_names = f_babynames.groupby('Name')['Count'].apply(calculate_rtp)\n",
        "\n",
        "# The result is a Series with the RTP for each name\n",
        "print(rtp_all_names)"
      ]
    },
    {
      "cell_type": "code",
      "execution_count": 18,
      "metadata": {
        "id": "ZxH-gi2TikKv"
      },
      "outputs": [
        {
          "name": "stdout",
          "output_type": "stream",
          "text": [
            "          Name  Count RTP\n",
            "0      Aadhini        0.0\n",
            "1      Aadhira        0.0\n",
            "2       Aadhya        0.0\n",
            "3        Aadya        0.0\n",
            "4       Aahana        0.0\n",
            "...        ...        ...\n",
            "13777   Zyanya        0.0\n",
            "13778     Zyla        0.0\n",
            "13779    Zylah        0.0\n",
            "13780     Zyra        0.0\n",
            "13781    Zyrah        0.0\n",
            "\n",
            "[13782 rows x 2 columns]\n"
          ]
        }
      ],
      "source": [
        "# Rename \"Count\" to \"Count RTP\" for clarity\n",
        "# Assuming 'rtp_all_names' is a Series with the RTP for each name\n",
        "\n",
        "# Convert the Series to a DataFrame\n",
        "rtp_df = rtp_all_names.reset_index(name='Count RTP')\n",
        "\n",
        "# Now 'rtp_df' is a DataFrame with the original 'Name' column and the new 'Count RTP' column\n",
        "print(rtp_df)\n"
      ]
    },
    {
      "cell_type": "code",
      "execution_count": null,
      "metadata": {
        "id": "t77rHbvjikKv"
      },
      "outputs": [],
      "source": [
        "# What name has fallen the most in popularity?\n"
      ]
    },
    {
      "cell_type": "markdown",
      "metadata": {
        "id": "59cPrjlJikKw"
      },
      "source": [
        "We can visualize the decrease in the popularity of the name \"?:\""
      ]
    },
    {
      "cell_type": "code",
      "execution_count": 16,
      "metadata": {},
      "outputs": [
        {
          "data": {
            "image/png": "[encoded data removed]",
            "text/plain": [
              "<Figure size 1000x400 with 1 Axes>"
            ]
          },
          "metadata": {},
          "output_type": "display_data"
        }
      ],
      "source": [
        "import matplotlib.pyplot as plt\n",
        "\n",
        "def plot_name(*names):\n",
        "    # Filter the DataFrame for the selected names\n",
        "    filtered_data = f_babynames[f_babynames[\"Name\"].isin(names)]\n",
        "    \n",
        "    # Plot the data\n",
        "    fig, ax = plt.subplots()\n",
        "    for name in names:\n",
        "        data_to_plot = filtered_data[filtered_data[\"Name\"] == name]\n",
        "        ax.plot(data_to_plot[\"Year\"], data_to_plot[\"Count\"], label=name)\n",
        "    \n",
        "    # Set the title and labels\n",
        "    ax.set_title(f\"Popularity for: {', '.join(names)}\")\n",
        "    ax.set_xlabel(\"Year\")\n",
        "    ax.set_ylabel(\"Count\")\n",
        "    \n",
        "    # Set the layout properties\n",
        "    fig.set_size_inches(10, 4)\n",
        "    plt.legend()\n",
        "    plt.show()\n",
        "\n",
        "# Example usage:\n",
        "plot_name(\"Emma\", \"Olivia\")  \n"
      ]
    },
    {
      "cell_type": "code",
      "execution_count": null,
      "metadata": {
        "id": "xlCnd6ZRikKw"
      },
      "outputs": [],
      "source": [
        "# Find the 10 names that have decreased the most in popularity\n",
        "# Answer Here"
      ]
    },
    {
      "cell_type": "code",
      "execution_count": 18,
      "metadata": {
        "id": "JGpQ_fpLikKw"
      },
      "outputs": [
        {
          "ename": "NameError",
          "evalue": "name 'top10' is not defined",
          "output_type": "error",
          "traceback": [
            "\u001b[1;31m---------------------------------------------------------------------------\u001b[0m",
            "\u001b[1;31mNameError\u001b[0m                                 Traceback (most recent call last)",
            "Cell \u001b[1;32mIn[18], line 1\u001b[0m\n\u001b[1;32m----> 1\u001b[0m plot_name(\u001b[38;5;241m*\u001b[39m\u001b[43mtop10\u001b[49m)\n",
            "\u001b[1;31mNameError\u001b[0m: name 'top10' is not defined"
          ]
        }
      ],
      "source": [
        "plot_name(*top10)"
      ]
    },
    {
      "cell_type": "markdown",
      "metadata": {
        "id": "xpTKbYENikKw"
      },
      "source": [
        "For fun, try plotting your name or your friends' names."
      ]
    }
  ],
  "metadata": {
    "colab": {
      "provenance": []
    },
    "kernelspec": {
      "display_name": "Python 3 (ipykernel)",
      "language": "python",
      "name": "python3"
    },
    "language_info": {
      "codemirror_mode": {
        "name": "ipython",
        "version": 3
      },
      "file_extension": ".py",
      "mimetype": "text/x-python",
      "name": "python",
      "nbconvert_exporter": "python",
      "pygments_lexer": "ipython3",
      "version": "3.11.9"
    }
  },
  "nbformat": 4,
  "nbformat_minor": 0
}
