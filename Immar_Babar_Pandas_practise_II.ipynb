{
  "cells": [
    {
      "cell_type": "code",
      "execution_count": null,
      "metadata": {
        "id": "6PIse7FRFVO2"
      },
      "outputs": [],
      "source": [
        "%matplotlib inline\n",
        "import matplotlib.pyplot as plt\n",
        "import seaborn as sns\n",
        "import numpy as np\n",
        "import pandas as pd\n",
        "from IPython.display import display\n",
        "from IPython.display import Image\n",
        "sns.set_context(\"notebook\")"
      ]
    },
    {
      "cell_type": "code",
      "execution_count": null,
      "metadata": {
        "colab": {
          "base_uri": "https://localhost:8080/"
        },
        "id": "61hY5_a-K1bi",
        "outputId": "c92c9405-4629-40a8-ea8c-46e50df92906"
      },
      "outputs": [
        {
          "name": "stdout",
          "output_type": "stream",
          "text": [
            "Mounted at /content/drive\n"
          ]
        }
      ],
      "source": [
        "from google.colab import drive\n",
        "drive.mount('/content/drive')"
      ]
    },
    {
      "cell_type": "markdown",
      "metadata": {
        "id": "Do3KBRcu3Ee2"
      },
      "source": [
        "# Extracting Data and Filtering\n",
        ":The `[]` operator supports array of booleans as an input. In this case, the array must be exactly as long as the number of rows.\n",
        "\n",
        "The result is a **filtered version of the data frame**, where **only rows corresponding to True appear**.\n",
        "\n",
        "# Q1.\n",
        "Select multiple criteria by creating multiple boolean Series and combining them using the `&` operator. For Examole Result is win and %win is more than 50."
      ]
    },
    {
      "cell_type": "code",
      "execution_count": 35,
      "metadata": {
        "id": "n6ahrlX728Fb"
      },
      "outputs": [
        {
          "name": "stdout",
          "output_type": "stream",
          "text": [
            "   Candidate       Party     %  Year Result\n",
            "0     Reagan  Republican  50.7  1980    win\n",
            "3     Reagan  Republican  58.8  1984    win\n",
            "5       Bush  Republican  53.4  1988    win\n",
            "16      Bush  Republican  50.7  2004    win\n",
            "17     Obama  Democratic  52.9  2008    win\n",
            "19     Obama  Democratic  51.1  2012    win\n"
          ]
        }
      ],
      "source": [
        "import pandas as pd\n",
        "election = pd.read_csv(r'C:\\Users\\pc\\Desktop\\Data Science with ML\\pandas\\elections.csv')\n",
        " # if we end a cell with an expression or variable name, the result will print the data frame\n",
        "e1=(election[\"Result\"]== \"win\")  & (election[\"%\"]>50 )\n",
        "\n",
        "print(election[e1])\n",
        "\n",
        "#condition = (election[\"Result\"] == \"win\") & (election[\"%\"] > 50)\n",
        "\n",
        "# Apply the combined condition to filter the dataframe\n",
        "#e3 = election[condition]\n",
        "#print(e3)\n"
      ]
    },
    {
      "cell_type": "markdown",
      "metadata": {
        "id": "Qpjba2Q-FVO3"
      },
      "source": [
        "We will nowe work with a dataset containing the names of all babies born in California, USA. Visit the [Social Security Adminisitration Website](https://www.ssa.gov/oact/babynames/limits.html) for more details about the dataset if you want."
      ]
    },
    {
      "cell_type": "markdown",
      "metadata": {
        "id": "8Cy00jhFFVO4"
      },
      "source": [
        "**Let's start by loading the Baby Names dataset.**"
      ]
    },
    {
      "cell_type": "code",
      "execution_count": 2,
      "metadata": {
        "id": "9VAZe6aBFVO4"
      },
      "outputs": [
        {
          "data": {
            "text/html": [
              "<div>\n",
              "<style scoped>\n",
              "    .dataframe tbody tr th:only-of-type {\n",
              "        vertical-align: middle;\n",
              "    }\n",
              "\n",
              "    .dataframe tbody tr th {\n",
              "        vertical-align: top;\n",
              "    }\n",
              "\n",
              "    .dataframe thead th {\n",
              "        text-align: right;\n",
              "    }\n",
              "</style>\n",
              "<table border=\"1\" class=\"dataframe\">\n",
              "  <thead>\n",
              "    <tr style=\"text-align: right;\">\n",
              "      <th></th>\n",
              "      <th>State</th>\n",
              "      <th>Sex</th>\n",
              "      <th>Year</th>\n",
              "      <th>Name</th>\n",
              "      <th>Count</th>\n",
              "    </tr>\n",
              "  </thead>\n",
              "  <tbody>\n",
              "    <tr>\n",
              "      <th>0</th>\n",
              "      <td>CA</td>\n",
              "      <td>F</td>\n",
              "      <td>1910</td>\n",
              "      <td>Mary</td>\n",
              "      <td>295</td>\n",
              "    </tr>\n",
              "    <tr>\n",
              "      <th>1</th>\n",
              "      <td>CA</td>\n",
              "      <td>F</td>\n",
              "      <td>1910</td>\n",
              "      <td>Helen</td>\n",
              "      <td>239</td>\n",
              "    </tr>\n",
              "    <tr>\n",
              "      <th>2</th>\n",
              "      <td>CA</td>\n",
              "      <td>F</td>\n",
              "      <td>1910</td>\n",
              "      <td>Dorothy</td>\n",
              "      <td>220</td>\n",
              "    </tr>\n",
              "    <tr>\n",
              "      <th>3</th>\n",
              "      <td>CA</td>\n",
              "      <td>F</td>\n",
              "      <td>1910</td>\n",
              "      <td>Margaret</td>\n",
              "      <td>163</td>\n",
              "    </tr>\n",
              "    <tr>\n",
              "      <th>4</th>\n",
              "      <td>CA</td>\n",
              "      <td>F</td>\n",
              "      <td>1910</td>\n",
              "      <td>Frances</td>\n",
              "      <td>134</td>\n",
              "    </tr>\n",
              "    <tr>\n",
              "      <th>5</th>\n",
              "      <td>CA</td>\n",
              "      <td>F</td>\n",
              "      <td>1910</td>\n",
              "      <td>Ruth</td>\n",
              "      <td>128</td>\n",
              "    </tr>\n",
              "    <tr>\n",
              "      <th>6</th>\n",
              "      <td>CA</td>\n",
              "      <td>F</td>\n",
              "      <td>1910</td>\n",
              "      <td>Evelyn</td>\n",
              "      <td>126</td>\n",
              "    </tr>\n",
              "    <tr>\n",
              "      <th>7</th>\n",
              "      <td>CA</td>\n",
              "      <td>F</td>\n",
              "      <td>1910</td>\n",
              "      <td>Alice</td>\n",
              "      <td>118</td>\n",
              "    </tr>\n",
              "    <tr>\n",
              "      <th>8</th>\n",
              "      <td>CA</td>\n",
              "      <td>F</td>\n",
              "      <td>1910</td>\n",
              "      <td>Virginia</td>\n",
              "      <td>101</td>\n",
              "    </tr>\n",
              "    <tr>\n",
              "      <th>9</th>\n",
              "      <td>CA</td>\n",
              "      <td>F</td>\n",
              "      <td>1910</td>\n",
              "      <td>Elizabeth</td>\n",
              "      <td>93</td>\n",
              "    </tr>\n",
              "    <tr>\n",
              "      <th>10</th>\n",
              "      <td>CA</td>\n",
              "      <td>F</td>\n",
              "      <td>1910</td>\n",
              "      <td>Florence</td>\n",
              "      <td>93</td>\n",
              "    </tr>\n",
              "    <tr>\n",
              "      <th>11</th>\n",
              "      <td>CA</td>\n",
              "      <td>F</td>\n",
              "      <td>1910</td>\n",
              "      <td>Marie</td>\n",
              "      <td>90</td>\n",
              "    </tr>\n",
              "    <tr>\n",
              "      <th>12</th>\n",
              "      <td>CA</td>\n",
              "      <td>F</td>\n",
              "      <td>1910</td>\n",
              "      <td>Mildred</td>\n",
              "      <td>90</td>\n",
              "    </tr>\n",
              "    <tr>\n",
              "      <th>13</th>\n",
              "      <td>CA</td>\n",
              "      <td>F</td>\n",
              "      <td>1910</td>\n",
              "      <td>Rose</td>\n",
              "      <td>74</td>\n",
              "    </tr>\n",
              "    <tr>\n",
              "      <th>14</th>\n",
              "      <td>CA</td>\n",
              "      <td>F</td>\n",
              "      <td>1910</td>\n",
              "      <td>Hazel</td>\n",
              "      <td>68</td>\n",
              "    </tr>\n",
              "  </tbody>\n",
              "</table>\n",
              "</div>"
            ],
            "text/plain": [
              "   State Sex  Year       Name  Count\n",
              "0     CA   F  1910       Mary    295\n",
              "1     CA   F  1910      Helen    239\n",
              "2     CA   F  1910    Dorothy    220\n",
              "3     CA   F  1910   Margaret    163\n",
              "4     CA   F  1910    Frances    134\n",
              "5     CA   F  1910       Ruth    128\n",
              "6     CA   F  1910     Evelyn    126\n",
              "7     CA   F  1910      Alice    118\n",
              "8     CA   F  1910   Virginia    101\n",
              "9     CA   F  1910  Elizabeth     93\n",
              "10    CA   F  1910   Florence     93\n",
              "11    CA   F  1910      Marie     90\n",
              "12    CA   F  1910    Mildred     90\n",
              "13    CA   F  1910       Rose     74\n",
              "14    CA   F  1910      Hazel     68"
            ]
          },
          "execution_count": 2,
          "metadata": {},
          "output_type": "execute_result"
        }
      ],
      "source": [
        "import urllib.request\n",
        "import os.path\n",
        "import zipfile\n",
        "import pandas as pd\n",
        "\n",
        "data_url = \"https://www.ssa.gov/oact/babynames/state/namesbystate.zip\"\n",
        "local_filename = \"babynamesbystate.zip\"\n",
        "if not os.path.exists(local_filename): # if the data exists don't download again\n",
        "    with urllib.request.urlopen(data_url) as resp, open(local_filename, 'wb') as f:\n",
        "        f.write(resp.read())\n",
        "\n",
        "zf = zipfile.ZipFile(local_filename, 'r')\n",
        "\n",
        "ca_name = 'STATE.CA.TXT'\n",
        "field_names = ['State', 'Sex', 'Year', 'Name', 'Count']\n",
        "with zf.open(ca_name) as fh:\n",
        "    babynames = pd.read_csv(fh, header=None, names=field_names)\n",
        "\n",
        "babynames.head(15)"
      ]
    },
    {
      "cell_type": "markdown",
      "metadata": {
        "id": "6WTNw56KfRA2"
      },
      "source": [
        "# Q2.\n",
        "Calculate the some statics of babynames DataFrame using Utility Functions, like .describe(), .size(), .shape() and report your analysis in comments"
      ]
    },
    {
      "cell_type": "code",
      "execution_count": 40,
      "metadata": {
        "id": "WOX88FOSFVO5"
      },
      "outputs": [
        {
          "data": {
            "text/html": [
              "<div>\n",
              "<style scoped>\n",
              "    .dataframe tbody tr th:only-of-type {\n",
              "        vertical-align: middle;\n",
              "    }\n",
              "\n",
              "    .dataframe tbody tr th {\n",
              "        vertical-align: top;\n",
              "    }\n",
              "\n",
              "    .dataframe thead th {\n",
              "        text-align: right;\n",
              "    }\n",
              "</style>\n",
              "<table border=\"1\" class=\"dataframe\">\n",
              "  <thead>\n",
              "    <tr style=\"text-align: right;\">\n",
              "      <th></th>\n",
              "      <th>Year</th>\n",
              "      <th>Count</th>\n",
              "    </tr>\n",
              "  </thead>\n",
              "  <tbody>\n",
              "    <tr>\n",
              "      <th>count</th>\n",
              "      <td>407428.000000</td>\n",
              "      <td>407428.000000</td>\n",
              "    </tr>\n",
              "    <tr>\n",
              "      <th>mean</th>\n",
              "      <td>1985.733609</td>\n",
              "      <td>79.543456</td>\n",
              "    </tr>\n",
              "    <tr>\n",
              "      <th>std</th>\n",
              "      <td>27.007660</td>\n",
              "      <td>293.698654</td>\n",
              "    </tr>\n",
              "    <tr>\n",
              "      <th>min</th>\n",
              "      <td>1910.000000</td>\n",
              "      <td>5.000000</td>\n",
              "    </tr>\n",
              "    <tr>\n",
              "      <th>25%</th>\n",
              "      <td>1969.000000</td>\n",
              "      <td>7.000000</td>\n",
              "    </tr>\n",
              "    <tr>\n",
              "      <th>50%</th>\n",
              "      <td>1992.000000</td>\n",
              "      <td>13.000000</td>\n",
              "    </tr>\n",
              "    <tr>\n",
              "      <th>75%</th>\n",
              "      <td>2008.000000</td>\n",
              "      <td>38.000000</td>\n",
              "    </tr>\n",
              "    <tr>\n",
              "      <th>max</th>\n",
              "      <td>2022.000000</td>\n",
              "      <td>8260.000000</td>\n",
              "    </tr>\n",
              "  </tbody>\n",
              "</table>\n",
              "</div>"
            ],
            "text/plain": [
              "                Year          Count\n",
              "count  407428.000000  407428.000000\n",
              "mean     1985.733609      79.543456\n",
              "std        27.007660     293.698654\n",
              "min      1910.000000       5.000000\n",
              "25%      1969.000000       7.000000\n",
              "50%      1992.000000      13.000000\n",
              "75%      2008.000000      38.000000\n",
              "max      2022.000000    8260.000000"
            ]
          },
          "execution_count": 40,
          "metadata": {},
          "output_type": "execute_result"
        }
      ],
      "source": [
        "c1=babynames\n",
        "c1.describe()"
      ]
    },
    {
      "cell_type": "code",
      "execution_count": 5,
      "metadata": {},
      "outputs": [
        {
          "name": "stdout",
          "output_type": "stream",
          "text": [
            "(407428, 5)\n"
          ]
        },
        {
          "data": {
            "text/plain": [
              "2037140"
            ]
          },
          "execution_count": 5,
          "metadata": {},
          "output_type": "execute_result"
        }
      ],
      "source": [
        "print(babynames.shape)\n",
        "babynames.size\n"
      ]
    },
    {
      "cell_type": "markdown",
      "metadata": {
        "id": "SfH7STDBhWC7"
      },
      "source": [
        "# Q.3:\n",
        "\n",
        "Using the babynames DataFrame that contains baby names data for the state of California, how can you use the 'isin' method to find out which records have names that are in a given list of names, such as \"Emma,\" \"Liam,\" and \"Olivia,\" and what would be the output of this operation when applied to the first 15 rows of the DataFrame (babynames.head(15))?"
      ]
    },
    {
      "cell_type": "code",
      "execution_count": 24,
      "metadata": {
        "id": "hqBOidu2hpCh"
      },
      "outputs": [
        {
          "name": "stdout",
          "output_type": "stream",
          "text": [
            "     State Sex  Year    Name  Count\n",
            "53      CA   F  1910    Emma     29\n",
            "293     CA   F  1911    Emma     29\n",
            "525     CA   F  1912    Emma     56\n",
            "701     CA   F  1912  Olivia      8\n",
            "840     CA   F  1913    Emma     56\n",
            "1168    CA   F  1914    Emma     65\n",
            "1437    CA   F  1914  Olivia      6\n",
            "1542    CA   F  1915    Emma     86\n",
            "1869    CA   F  1915  Olivia      6\n",
            "2009    CA   F  1916    Emma     78\n",
            "2195    CA   F  1916  Olivia     12\n",
            "2467    CA   F  1917    Emma     95\n",
            "2639    CA   F  1917  Olivia     15\n",
            "2958    CA   F  1918    Emma     83\n",
            "3136    CA   F  1918  Olivia     15\n"
          ]
        }
      ],
      "source": [
        "# List of names to check\n",
        "name_list = [\"Emma\", \"Liam\", \"Olivia\"]\n",
        "#babynames[babynames.head(15).isin(\"name_list\")]\n",
        "Conditioned_names = babynames[babynames[\"Name\"].isin(name_list)]\n",
        "filtered_babynames=Conditioned_names.head(15)\n",
        "print(filtered_babynames)\n",
        "# Use the isin method to filter records with names in the name_list\n",
        "\n",
        "\n",
        "# Display the filtered DataFrame\n"
      ]
    },
    {
      "cell_type": "markdown",
      "metadata": {
        "id": "3LdJ07oPinL7"
      },
      "source": [
        "# Q.4:\n",
        "How can you use the 'str.startswith' method in pandas to filter records in a babyname DataFrame? Provide an example code using the babynames DataFrame and explain how this method can be employed to extract data for baby names that begin with 'A' or 'B' set of letters."
      ]
    },
    {
      "cell_type": "code",
      "execution_count": 8,
      "metadata": {
        "id": "tVqVmJ4ajln9"
      },
      "outputs": [
        {
          "data": {
            "text/html": [
              "<div>\n",
              "<style scoped>\n",
              "    .dataframe tbody tr th:only-of-type {\n",
              "        vertical-align: middle;\n",
              "    }\n",
              "\n",
              "    .dataframe tbody tr th {\n",
              "        vertical-align: top;\n",
              "    }\n",
              "\n",
              "    .dataframe thead th {\n",
              "        text-align: right;\n",
              "    }\n",
              "</style>\n",
              "<table border=\"1\" class=\"dataframe\">\n",
              "  <thead>\n",
              "    <tr style=\"text-align: right;\">\n",
              "      <th></th>\n",
              "      <th>State</th>\n",
              "      <th>Sex</th>\n",
              "      <th>Year</th>\n",
              "      <th>Name</th>\n",
              "      <th>Count</th>\n",
              "    </tr>\n",
              "  </thead>\n",
              "  <tbody>\n",
              "    <tr>\n",
              "      <th>7</th>\n",
              "      <td>CA</td>\n",
              "      <td>F</td>\n",
              "      <td>1910</td>\n",
              "      <td>Alice</td>\n",
              "      <td>118</td>\n",
              "    </tr>\n",
              "    <tr>\n",
              "      <th>31</th>\n",
              "      <td>CA</td>\n",
              "      <td>F</td>\n",
              "      <td>1910</td>\n",
              "      <td>Anna</td>\n",
              "      <td>51</td>\n",
              "    </tr>\n",
              "    <tr>\n",
              "      <th>32</th>\n",
              "      <td>CA</td>\n",
              "      <td>F</td>\n",
              "      <td>1910</td>\n",
              "      <td>Ann</td>\n",
              "      <td>47</td>\n",
              "    </tr>\n",
              "    <tr>\n",
              "      <th>57</th>\n",
              "      <td>CA</td>\n",
              "      <td>F</td>\n",
              "      <td>1910</td>\n",
              "      <td>Anita</td>\n",
              "      <td>28</td>\n",
              "    </tr>\n",
              "    <tr>\n",
              "      <th>68</th>\n",
              "      <td>CA</td>\n",
              "      <td>F</td>\n",
              "      <td>1910</td>\n",
              "      <td>Alma</td>\n",
              "      <td>24</td>\n",
              "    </tr>\n",
              "    <tr>\n",
              "      <th>...</th>\n",
              "      <td>...</td>\n",
              "      <td>...</td>\n",
              "      <td>...</td>\n",
              "      <td>...</td>\n",
              "      <td>...</td>\n",
              "    </tr>\n",
              "    <tr>\n",
              "      <th>407125</th>\n",
              "      <td>CA</td>\n",
              "      <td>M</td>\n",
              "      <td>2022</td>\n",
              "      <td>Brando</td>\n",
              "      <td>5</td>\n",
              "    </tr>\n",
              "    <tr>\n",
              "      <th>407126</th>\n",
              "      <td>CA</td>\n",
              "      <td>M</td>\n",
              "      <td>2022</td>\n",
              "      <td>Braxtyn</td>\n",
              "      <td>5</td>\n",
              "    </tr>\n",
              "    <tr>\n",
              "      <th>407127</th>\n",
              "      <td>CA</td>\n",
              "      <td>M</td>\n",
              "      <td>2022</td>\n",
              "      <td>Brenden</td>\n",
              "      <td>5</td>\n",
              "    </tr>\n",
              "    <tr>\n",
              "      <th>407128</th>\n",
              "      <td>CA</td>\n",
              "      <td>M</td>\n",
              "      <td>2022</td>\n",
              "      <td>Brix</td>\n",
              "      <td>5</td>\n",
              "    </tr>\n",
              "    <tr>\n",
              "      <th>407129</th>\n",
              "      <td>CA</td>\n",
              "      <td>M</td>\n",
              "      <td>2022</td>\n",
              "      <td>Broly</td>\n",
              "      <td>5</td>\n",
              "    </tr>\n",
              "  </tbody>\n",
              "</table>\n",
              "<p>61691 rows × 5 columns</p>\n",
              "</div>"
            ],
            "text/plain": [
              "       State Sex  Year     Name  Count\n",
              "7         CA   F  1910    Alice    118\n",
              "31        CA   F  1910     Anna     51\n",
              "32        CA   F  1910      Ann     47\n",
              "57        CA   F  1910    Anita     28\n",
              "68        CA   F  1910     Alma     24\n",
              "...      ...  ..   ...      ...    ...\n",
              "407125    CA   M  2022   Brando      5\n",
              "407126    CA   M  2022  Braxtyn      5\n",
              "407127    CA   M  2022  Brenden      5\n",
              "407128    CA   M  2022     Brix      5\n",
              "407129    CA   M  2022    Broly      5\n",
              "\n",
              "[61691 rows x 5 columns]"
            ]
          },
          "execution_count": 8,
          "metadata": {},
          "output_type": "execute_result"
        }
      ],
      "source": [
        "# Filter rows where the 'Name' column starts with 'A'\n",
        "\n",
        "# Display the filtered DataFrame\n",
        "\n",
        "#babynames.strstartswith(\"A\")\n",
        "\n",
        "A_lett=babynames[babynames[\"Name\"].str.startswith(\"A\")]\n",
        "B_lett=babynames[babynames[\"Name\"].str.startswith(\"B\")]\n",
        "AB_Lett=pd.concat([A_lett , B_lett])\n",
        "AB_Lett\n"
      ]
    },
    {
      "cell_type": "markdown",
      "metadata": {
        "id": "pMQ3UZysFVO6"
      },
      "source": [
        "# Q.5\n",
        "\n",
        "Find the most popular baby name in California in 2012\n",
        "\n",
        "__Exercise__: Try to find the most popular baby name by finding the maximum value for 'Count' and then apply filtering to find the name.\n"
      ]
    },
    {
      "cell_type": "code",
      "execution_count": 107,
      "metadata": {
        "id": "hZxRzE-FFVO6"
      },
      "outputs": [
        {
          "name": "stdout",
          "output_type": "stream",
          "text": [
            "       State Sex  Year      Name  Count      8260  Lenght  Lenght\n",
            "197530    CA   F  2012    Sophia   3644    Sophia       6       6\n",
            "197531    CA   F  2012  Isabella   3113  Isabella       8       8\n",
            "375622    CA   M  2012     Jacob   2982     Jacob       5       5\n",
            "375623    CA   M  2012    Jayden   2871    Jayden       6       6\n",
            "375624    CA   M  2012    Daniel   2689    Daniel       6       6\n",
            "...      ...  ..   ...       ...    ...       ...     ...     ...\n",
            "201245    CA   F  2012      Elsi      5      Elsi       4       4\n",
            "201244    CA   F  2012    Ellora      5    Ellora       6       6\n",
            "201243    CA   F  2012  Elliotte      5  Elliotte       8       8\n",
            "201242    CA   F  2012   Elleana      5   Elleana       7       7\n",
            "378535    CA   M  2012      Zyon      5      Zyon       4       4\n",
            "\n",
            "[7017 rows x 8 columns]\n",
            "State         CA\n",
            "Sex            F\n",
            "Year        2012\n",
            "Name      Sophia\n",
            "Count       3644\n",
            "8260      Sophia\n",
            "Lenght         6\n",
            "Lenght         6\n",
            "Name: 197530, dtype: object\n",
            "The most popular Baby name is Sophia with a count of 3644.\n"
          ]
        }
      ],
      "source": [
        "#filtered= babynames[babynames[\"Count\"].max]\n",
        "#m1=c1=babynames['Name']==max(babynames['Name'].value_counts())\n",
        "#babynames[m1]\n",
        "\n",
        "m2=(babynames['Year']==2012) &(babynames['State']==\"CA\") \n",
        "maxi=babynames[m2]\n",
        "\n",
        "\n",
        "# Filter the dataframe to find the row(s) with this maximum 'Count'\n",
        "tb =maxi.sort_values(by='Count', ascending=False)\n",
        "print(tb)\n",
        "\n",
        "\n",
        "\n",
        "# Display the most popular name and its count\n",
        "print(tb.iloc[0])\n",
        "\n",
        "most_popular = tb.iloc[0]\n",
        "print(f\"The most popular Baby name is {most_popular.Name} with a count of {most_popular['Count']}.\")\n"
      ]
    },
    {
      "cell_type": "markdown",
      "metadata": {
        "id": "oENLC2gLFVO7"
      },
      "source": [
        "# Q. 6\n",
        "Find baby names that start with J, in th Year from 2001 to 2019\n",
        "\n",
        "*Note: To answer this question, we need a way to look at the individual characters of the baby names*"
      ]
    },
    {
      "cell_type": "code",
      "execution_count": 62,
      "metadata": {
        "id": "Z2wBuGwyFVO7"
      },
      "outputs": [
        {
          "name": "stdout",
          "output_type": "stream",
          "text": [
            "       State Sex  Year         Name  Count         8260\n",
            "152826    CA   F  2001      Jessica   2244      Jessica\n",
            "152828    CA   F  2001     Jennifer   2027     Jennifer\n",
            "152832    CA   F  2001      Jasmine   1655      Jasmine\n",
            "152847    CA   F  2001   Jacqueline   1195   Jacqueline\n",
            "152857    CA   F  2001        Julia    983        Julia\n",
            "...      ...  ..   ...          ...    ...          ...\n",
            "398685    CA   M  2019  Joseantonio      5  Joseantonio\n",
            "398686    CA   M  2019       Jovian      5       Jovian\n",
            "398687    CA   M  2019       Jujhar      5       Jujhar\n",
            "398688    CA   M  2019      Jullian      5      Jullian\n",
            "398689    CA   M  2019         June      5         June\n",
            "\n",
            "[11276 rows x 6 columns]\n"
          ]
        }
      ],
      "source": [
        "# Note: Series has powerful string manipulation methods associated with it\n",
        "fir= (babynames['Name'].str.startswith('J')) & (babynames['Year']>=2001) & (babynames['Year']<=2019)\n",
        "print(babynames[fir])\n"
      ]
    },
    {
      "cell_type": "markdown",
      "metadata": {
        "id": "8RiGrIV-mIbP"
      },
      "source": [
        "# Q.7\n",
        "Add a new column called \"name_length\" to the babynames DataFrame, you can use .str.len() in existing Name column. Moreover. also modify the Length values with new values like existing_value-1 and rename the length column with new label as desceribe in slides.\n",
        "\n"
      ]
    },
    {
      "cell_type": "code",
      "execution_count": 69,
      "metadata": {
        "id": "SQEAYy8Jm8lu"
      },
      "outputs": [
        {
          "data": {
            "text/html": [
              "<div>\n",
              "<style scoped>\n",
              "    .dataframe tbody tr th:only-of-type {\n",
              "        vertical-align: middle;\n",
              "    }\n",
              "\n",
              "    .dataframe tbody tr th {\n",
              "        vertical-align: top;\n",
              "    }\n",
              "\n",
              "    .dataframe thead th {\n",
              "        text-align: right;\n",
              "    }\n",
              "</style>\n",
              "<table border=\"1\" class=\"dataframe\">\n",
              "  <thead>\n",
              "    <tr style=\"text-align: right;\">\n",
              "      <th></th>\n",
              "      <th>State</th>\n",
              "      <th>Sex</th>\n",
              "      <th>Year</th>\n",
              "      <th>Name</th>\n",
              "      <th>Count</th>\n",
              "      <th>8260</th>\n",
              "      <th>Lenght</th>\n",
              "      <th>Lenght</th>\n",
              "    </tr>\n",
              "  </thead>\n",
              "  <tbody>\n",
              "    <tr>\n",
              "      <th>0</th>\n",
              "      <td>CA</td>\n",
              "      <td>F</td>\n",
              "      <td>1910</td>\n",
              "      <td>Mary</td>\n",
              "      <td>295</td>\n",
              "      <td>Mary</td>\n",
              "      <td>4</td>\n",
              "      <td>4</td>\n",
              "    </tr>\n",
              "    <tr>\n",
              "      <th>1</th>\n",
              "      <td>CA</td>\n",
              "      <td>F</td>\n",
              "      <td>1910</td>\n",
              "      <td>Helen</td>\n",
              "      <td>239</td>\n",
              "      <td>Helen</td>\n",
              "      <td>5</td>\n",
              "      <td>5</td>\n",
              "    </tr>\n",
              "    <tr>\n",
              "      <th>2</th>\n",
              "      <td>CA</td>\n",
              "      <td>F</td>\n",
              "      <td>1910</td>\n",
              "      <td>Dorothy</td>\n",
              "      <td>220</td>\n",
              "      <td>Dorothy</td>\n",
              "      <td>7</td>\n",
              "      <td>7</td>\n",
              "    </tr>\n",
              "    <tr>\n",
              "      <th>3</th>\n",
              "      <td>CA</td>\n",
              "      <td>F</td>\n",
              "      <td>1910</td>\n",
              "      <td>Margaret</td>\n",
              "      <td>163</td>\n",
              "      <td>Margaret</td>\n",
              "      <td>8</td>\n",
              "      <td>8</td>\n",
              "    </tr>\n",
              "    <tr>\n",
              "      <th>4</th>\n",
              "      <td>CA</td>\n",
              "      <td>F</td>\n",
              "      <td>1910</td>\n",
              "      <td>Frances</td>\n",
              "      <td>134</td>\n",
              "      <td>Frances</td>\n",
              "      <td>7</td>\n",
              "      <td>7</td>\n",
              "    </tr>\n",
              "    <tr>\n",
              "      <th>...</th>\n",
              "      <td>...</td>\n",
              "      <td>...</td>\n",
              "      <td>...</td>\n",
              "      <td>...</td>\n",
              "      <td>...</td>\n",
              "      <td>...</td>\n",
              "      <td>...</td>\n",
              "      <td>...</td>\n",
              "    </tr>\n",
              "    <tr>\n",
              "      <th>407423</th>\n",
              "      <td>CA</td>\n",
              "      <td>M</td>\n",
              "      <td>2022</td>\n",
              "      <td>Zayvier</td>\n",
              "      <td>5</td>\n",
              "      <td>Zayvier</td>\n",
              "      <td>7</td>\n",
              "      <td>7</td>\n",
              "    </tr>\n",
              "    <tr>\n",
              "      <th>407424</th>\n",
              "      <td>CA</td>\n",
              "      <td>M</td>\n",
              "      <td>2022</td>\n",
              "      <td>Zia</td>\n",
              "      <td>5</td>\n",
              "      <td>Zia</td>\n",
              "      <td>3</td>\n",
              "      <td>3</td>\n",
              "    </tr>\n",
              "    <tr>\n",
              "      <th>407425</th>\n",
              "      <td>CA</td>\n",
              "      <td>M</td>\n",
              "      <td>2022</td>\n",
              "      <td>Zora</td>\n",
              "      <td>5</td>\n",
              "      <td>Zora</td>\n",
              "      <td>4</td>\n",
              "      <td>4</td>\n",
              "    </tr>\n",
              "    <tr>\n",
              "      <th>407426</th>\n",
              "      <td>CA</td>\n",
              "      <td>M</td>\n",
              "      <td>2022</td>\n",
              "      <td>Zuriel</td>\n",
              "      <td>5</td>\n",
              "      <td>Zuriel</td>\n",
              "      <td>6</td>\n",
              "      <td>6</td>\n",
              "    </tr>\n",
              "    <tr>\n",
              "      <th>407427</th>\n",
              "      <td>CA</td>\n",
              "      <td>M</td>\n",
              "      <td>2022</td>\n",
              "      <td>Zylo</td>\n",
              "      <td>5</td>\n",
              "      <td>Zylo</td>\n",
              "      <td>4</td>\n",
              "      <td>4</td>\n",
              "    </tr>\n",
              "  </tbody>\n",
              "</table>\n",
              "<p>407428 rows × 8 columns</p>\n",
              "</div>"
            ],
            "text/plain": [
              "       State Sex  Year      Name  Count      8260  Lenght  Lenght\n",
              "0         CA   F  1910      Mary    295      Mary       4       4\n",
              "1         CA   F  1910     Helen    239     Helen       5       5\n",
              "2         CA   F  1910   Dorothy    220   Dorothy       7       7\n",
              "3         CA   F  1910  Margaret    163  Margaret       8       8\n",
              "4         CA   F  1910   Frances    134   Frances       7       7\n",
              "...      ...  ..   ...       ...    ...       ...     ...     ...\n",
              "407423    CA   M  2022   Zayvier      5   Zayvier       7       7\n",
              "407424    CA   M  2022       Zia      5       Zia       3       3\n",
              "407425    CA   M  2022      Zora      5      Zora       4       4\n",
              "407426    CA   M  2022    Zuriel      5    Zuriel       6       6\n",
              "407427    CA   M  2022      Zylo      5      Zylo       4       4\n",
              "\n",
              "[407428 rows x 8 columns]"
            ]
          },
          "execution_count": 69,
          "metadata": {},
          "output_type": "execute_result"
        }
      ],
      "source": [
        "# Calculate the length of each name and add it as a new column \"_length\"\n",
        "len=babynames['Name'].str.len()\n",
        "babynames['Name_Lenght']=len\n",
        "\n",
        "# Display the updated DataFrame\n",
        "babynames['Name_Lenght']\n",
        "babynames\n",
        "# Rename the \"_length\" column to \"Length\"\n",
        "babynames=babynames.rename(columns={\"Name_Lenght\":\"Lenght\"})\n",
        "babynames\n"
      ]
    },
    {
      "cell_type": "markdown",
      "metadata": {
        "id": "1S_7ZKySo6CS"
      },
      "source": [
        "# Q.8\n",
        "\n",
        "Use .str.contain() to sample the names with 'ad' string and show first 10 samples."
      ]
    },
    {
      "cell_type": "code",
      "execution_count": 76,
      "metadata": {
        "id": "6ljvNnGxFVO9"
      },
      "outputs": [
        {
          "name": "stdout",
          "output_type": "stream",
          "text": [
            "    State Sex  Year      Name  Count      8260  Lenght  Lenght\n",
            "19     CA   F  1910    Gladys     63    Gladys       6       6\n",
            "96     CA   F  1910  Madeline     17  Madeline       8       8\n",
            "136    CA   F  1910     Sadie     10     Sadie       5       5\n",
            "257    CA   F  1911    Gladys     61    Gladys       6       6\n",
            "346    CA   F  1911    Nadine     14    Nadine       6       6\n",
            "376    CA   F  1911  Madeline     11  Madeline       8       8\n",
            "472    CA   F  1911     Madge      5     Madge       5       5\n",
            "480    CA   F  1911     Sadie      5     Sadie       5       5\n",
            "506    CA   F  1912    Gladys     87    Gladys       6       6\n",
            "569    CA   F  1912  Madeline     31  Madeline       8       8\n"
          ]
        }
      ],
      "source": [
        "names_with_ad = babynames[babynames['Name'].str.contains('ad')]\n",
        "first_10_samples = names_with_ad.head(10)\n",
        "print(first_10_samples)"
      ]
    },
    {
      "cell_type": "markdown",
      "metadata": {
        "id": "xpvkVZSmFVO9"
      },
      "source": [
        "More on str methods when we'll study regular expressions in this course. Note that there are other approaches that we can use to find the same answer as above."
      ]
    },
    {
      "cell_type": "code",
      "execution_count": 97,
      "metadata": {
        "id": "_Mf-crJ54KFQ"
      },
      "outputs": [
        {
          "name": "stdout",
          "output_type": "stream",
          "text": [
            "       State Sex  Year       Name  Count       8260  Lenght  Lenght\n",
            "27688     CA   F  1950  Guadalupe    121  Guadalupe       9       9\n",
            "266413    CA   M  1955       Chad     25       Chad       4       4\n",
            "228854    CA   F  2020  Madeleine    115  Madeleine       9       9\n",
            "344395    CA   M  2000    Bradlee      6    Bradlee       7       7\n",
            "268159    CA   M  1957       Brad    289       Brad       4       4\n"
          ]
        }
      ],
      "source": [
        "# Create a boolean mask for rows containing 'ad' in the \"Name\" column\n",
        "name_ad = babynames['Name'].str.contains('ad')\n",
        "# Use the mask to select rows and sample 5 random rows\n",
        "sampled_rows = babynames[name_ad].sample(5)\n",
        "print(sampled_rows)"
      ]
    },
    {
      "cell_type": "markdown",
      "metadata": {
        "id": "RmQtaxLnFVO9"
      },
      "source": [
        "# Q.9\n",
        " Sort names by their length."
      ]
    },
    {
      "cell_type": "markdown",
      "metadata": {
        "id": "L7kJKsSoFVO9"
      },
      "source": [
        "In the babynames DataFrame, which baby name appears most frequently across all years and states, and how can you use pandas to find this information? Provide the code and steps to determine the most popular baby name in the dataset."
      ]
    },
    {
      "cell_type": "code",
      "execution_count": 94,
      "metadata": {
        "id": "y8Zyi2pVqts2"
      },
      "outputs": [
        {
          "name": "stdout",
          "output_type": "stream",
          "text": [
            "           Count\n",
            "Name            \n",
            "Michael   435716\n",
            "David     377672\n",
            "Robert    353511\n",
            "John      316627\n",
            "James     286322\n",
            "...          ...\n",
            "Lurline        5\n",
            "Lunarose       5\n",
            "Lunah          5\n",
            "Luma           5\n",
            "Zyrus          5\n",
            "\n",
            "[20437 rows x 1 columns]\n",
            "Count    435716\n",
            "Name: Michael, dtype: int64\n",
            "The most popular name is Michael with a count of 435716.\n"
          ]
        }
      ],
      "source": [
        "\n",
        "\n",
        "# Group the data by \"Name\" and sum the \"Count\" for each name\n",
        "\n",
        "gp=babynames.groupby(\"Name\")[[\"Count\"]].agg(\"sum\")\n",
        "#print(gp)\n",
        "\n",
        "# Find the name with the highest total count\n",
        "max(gp)\n",
        "tb = gp.sort_values(by='Count', ascending=False)\n",
        "print(tb)\n",
        "\n",
        "\n",
        "\n",
        "# Display the most popular name and its count\n",
        "print(tb.iloc[0])\n",
        "\n",
        "most_popular = tb.iloc[0]\n",
        "print(f\"The most popular name is {most_popular.name} with a count of {most_popular['Count']}.\")"
      ]
    },
    {
      "cell_type": "markdown",
      "metadata": {
        "id": "C_YBsLEWquYO"
      },
      "source": [
        "# Q.10\n",
        "\n",
        "1: How can you use the .sample() method to randomly select a single row from the babynames DataFrame, and what is the purpose of such a selection?\n",
        "\n",
        "2: Suppose you want to generate a random sample of 10 baby names from the babynames DataFrame. How would you use the .sample() method to achieve this, and what parameters or arguments would you specify?\n",
        "\n",
        "3: In a scenario where you need to ensure reproducibility, explain how you can set a random seed when using the .sample() method in pandas. Why might this be important in certain data analysis tasks?\n",
        "\n",
        "4: You want to perform a bootstrap resampling analysis on the baby names data in the babynames DataFrame. Describe how you can repeatedly sample with replacement using .sample() to create multiple bootstrap samples for statistical analysis"
      ]
    },
    {
      "cell_type": "code",
      "execution_count": 79,
      "metadata": {
        "id": "zUuIGtbjq67o"
      },
      "outputs": [
        {
          "name": "stdout",
          "output_type": "stream",
          "text": [
            "254345       Ivan\n",
            "2739      Rebecca\n",
            "82669     Candyce\n",
            "34920        Lani\n",
            "344907      Sabin\n",
            "383240        Jin\n",
            "393129     Winson\n",
            "136693       Amal\n",
            "80915      Audrey\n",
            "181373      Arely\n",
            "Name: Name, dtype: object\n"
          ]
        },
        {
          "ename": "TypeError",
          "evalue": "'Series' object is not callable",
          "output_type": "error",
          "traceback": [
            "\u001b[1;31m---------------------------------------------------------------------------\u001b[0m",
            "\u001b[1;31mTypeError\u001b[0m                                 Traceback (most recent call last)",
            "Cell \u001b[1;32mIn[79], line 38\u001b[0m\n\u001b[0;32m     34\u001b[0m bootstrap_samples \u001b[38;5;241m=\u001b[39m []\n\u001b[0;32m     36\u001b[0m \u001b[38;5;28;01mfor\u001b[39;00m _ \u001b[38;5;129;01min\u001b[39;00m \u001b[38;5;28mrange\u001b[39m(num_samples):\n\u001b[0;32m     37\u001b[0m     \u001b[38;5;66;03m# Sample with replacement the same number of instances as in the original data\u001b[39;00m\n\u001b[1;32m---> 38\u001b[0m     sample \u001b[38;5;241m=\u001b[39m babynames\u001b[38;5;241m.\u001b[39msample(n\u001b[38;5;241m=\u001b[39m\u001b[38;5;28;43mlen\u001b[39;49m\u001b[43m(\u001b[49m\u001b[43mbabynames\u001b[49m\u001b[43m)\u001b[49m, replace\u001b[38;5;241m=\u001b[39m\u001b[38;5;28;01mTrue\u001b[39;00m)\n\u001b[0;32m     39\u001b[0m     \u001b[38;5;66;03m# Append the sample to the list of bootstrap samples\u001b[39;00m\n\u001b[0;32m     40\u001b[0m     bootstrap_samples\u001b[38;5;241m.\u001b[39mappend(sample)\n",
            "\u001b[1;31mTypeError\u001b[0m: 'Series' object is not callable"
          ]
        }
      ],
      "source": [
        "#2\n",
        "babynames['Name'].sample(10)\n",
        "\n",
        "#3\n",
        "random_seed = 42\n",
        "sampled_names = babynames['Name'].sample(10, random_state=random_seed)\n",
        "print(sampled_names)\n",
        "# 4th Part\n",
        "# Assuming you have the 'babynames' DataFrame\n",
        "\n",
        "# Set the random seed for reproducibility\n",
        "\n",
        "# Number of bootstrap samples\n",
        "\n",
        "# Sample size (same as the original dataset)\n",
        "\n",
        "# Initialize a list to store bootstrap sample statistics\n",
        "\n",
        "# Perform bootstrapping\n",
        "\n",
        "    # Generate a bootstrap sample with replacement\n",
        "\n",
        "    # Perform your statistical analysis on the bootstrap sample here\n",
        "    # For example, you can calculate the mean, median, or other statistics\n",
        "\n",
        "    # Append the statistic of interest to the list\n",
        "import pandas as pd\n",
        "\n",
        "# Assuming 'babynames' is your DataFrame and 'Name' is a column in it.\n",
        "# Number of bootstrap samples you want to create\n",
        "num_samples = 1000\n",
        "\n",
        "# List to store each bootstrap sample\n",
        "bootstrap_samples = []\n",
        "\n",
        "for _ in range(num_samples):\n",
        "    # Sample with replacement the same number of instances as in the original data\n",
        "    sample = babynames.sample(n=len(babynames), replace=True)\n",
        "    # Append the sample to the list of bootstrap samples\n",
        "    bootstrap_samples.append(sample)\n",
        "\n",
        "# Now you can calculate statistics on each bootstrap sample\n",
        "# For example, to calculate the mean 'Count' for each sample:\n",
        "mean_counts = [sample['Count'].mean() for sample in bootstrap_samples]\n",
        "\n",
        "# To calculate the 95% confidence interval for the mean 'Count':\n",
        "lower_bound = np.percentile(mean_counts, 2.5)\n",
        "upper_bound = np.percentile(mean_counts, 97.5)\n",
        "\n",
        "print(f\"95% confidence interval for the mean 'Count': {lower_bound} - {upper_bound}\")"
      ]
    },
    {
      "cell_type": "markdown",
      "metadata": {
        "id": "5O39msrBFVO-"
      },
      "source": [
        "# Q.11\n",
        "1: The code randomly mixes up the list of baby names. Why might someone want to do this, and how could it affect the analysis of the names?\n",
        "\n",
        "2: After mixing, the code figures out how long each baby name is. Why would we care about name lengths, and what can this tell us about the names?\n",
        "\n",
        "3: The code arranges the name lengths from longest to shortest. Why might we want to do this, and what could it help us find in the data?\n",
        "\n",
        "4: The code finds the order of baby names based on their lengths and shows us the first few names in this new order. When might we need to organize names this way, and what might we discover from the first few names in this order?"
      ]
    },
    {
      "cell_type": "code",
      "execution_count": null,
      "metadata": {
        "id": "-lyTRJMeFVO-"
      },
      "outputs": [],
      "source": [
        "#Part1, shuffling can be done using sample(frac=1)\n",
        "\n",
        "#Randomly shuffling or mixing up a list of baby names can be useful for several reasons in data analysis:\n",
        "\n",
        "#Removing Bias: If the data is in a particular order (e.g., sorted alphabetically or by popularity), \n",
        "#randomizing the order can help prevent any bias that might arise from processing the data in that specific order.\n",
        "#Sampling: When taking a sample from a dataset, it’s important that the sample is representative of the whole.\n",
        "# Randomizing the list before sampling can help ensure that the sample is not skewed by any ordering in the data.\n",
        "\n",
        "#Part2\n",
        "\n",
        "#Analyzing name lengths can reveal cultural trends and preferences in naming conventions. \n",
        "#It may also indicate shifts in societal attitudes towards simplicity or complexity in names over time.\n",
        "\n",
        "#Part3\n",
        "\n",
        "#Sorting names from longest to shortest can help identify naming patterns and outliers, \n",
        "#and it may also facilitate statistical analysis related to name length trends.\n",
        "\n",
        "\n",
        "#Part4\n",
        "#Organizing names by length can help in identifying naming trends and preferences, \n",
        "#and the first few names could highlight the most common lengths or popular long names."
      ]
    }
  ],
  "metadata": {
    "colab": {
      "provenance": []
    },
    "kernelspec": {
      "display_name": "Python 3",
      "language": "python",
      "name": "python3"
    },
    "language_info": {
      "codemirror_mode": {
        "name": "ipython",
        "version": 3
      },
      "file_extension": ".py",
      "mimetype": "text/x-python",
      "name": "python",
      "nbconvert_exporter": "python",
      "pygments_lexer": "ipython3",
      "version": "3.11.9"
    },
    "vscode": {
      "interpreter": {
        "hash": "7a3d88c904243d2c3f246166597f86d1c0a39f3d97496d1fe394945d0c6d436d"
      }
    }
  },
  "nbformat": 4,
  "nbformat_minor": 0
}
